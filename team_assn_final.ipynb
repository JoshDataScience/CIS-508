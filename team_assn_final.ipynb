{
 "cells": [
  {
   "cell_type": "markdown",
   "metadata": {
    "id": "qaEcDsnzhxV1"
   },
   "source": [
    "# Import Packages & Load Data Files"
   ]
  },
  {
   "cell_type": "code",
   "execution_count": 1,
   "metadata": {
    "id": "B2xKJJc_p6sf"
   },
   "outputs": [],
   "source": [
    "# importing pandas and numpy for data related operations\n",
    "import pandas as pd\n",
    "import numpy as np\n",
    "\n",
    "# importing matplotlib and seaborn for visualizations\n",
    "import matplotlib.pyplot as plt \n",
    "from matplotlib import rcParams\n",
    "%matplotlib inline\n",
    "import seaborn as sns \n",
    "sns.set(color_codes=True)\n",
    "\n",
    "# importing packages for preprocessing\n",
    "from sklearn.preprocessing import StandardScaler, OneHotEncoder\n",
    "from sklearn.impute import SimpleImputer\n",
    "\n",
    "# importing packages to build and test the model  \n",
    "from sklearn.model_selection import train_test_split, cross_val_score, RandomizedSearchCV\n",
    "from sklearn.metrics import mean_squared_error\n",
    "\n",
    "# importing model packages\n",
    "from sklearn.tree import DecisionTreeRegressor\n",
    "from sklearn.ensemble import RandomForestRegressor\n",
    "from sklearn.neural_network import MLPRegressor\n",
    "from sklearn.svm import SVR\n",
    "from sklearn.linear_model import SGDRegressor\n",
    "from xgboost import XGBRegressor\n",
    "\n",
    "# importing packages for stacking\n",
    "from mlxtend.regressor import StackingCVRegressor"
   ]
  },
  {
   "cell_type": "code",
   "execution_count": 2,
   "metadata": {
    "id": "9HsfkWTNoHT0"
   },
   "outputs": [],
   "source": [
    "# importing required data files - given training and test_data\n",
    "train_data = pd.read_csv('/content/drive/MyDrive/Colab Notebooks/TeamAssn/train.csv')\n",
    "test_data = pd.read_csv('/content/drive/MyDrive/Colab Notebooks/TeamAssn/test.csv')"
   ]
  },
  {
   "cell_type": "markdown",
   "metadata": {
    "id": "tmu2FqEpuHEj"
   },
   "source": [
    "# Exploratory Data Analysis (EDA)"
   ]
  },
  {
   "cell_type": "code",
   "execution_count": 23,
   "metadata": {
    "colab": {
     "base_uri": "https://localhost:8080/",
     "height": 275
    },
    "id": "Q04K3bXBuKcK",
    "outputId": "7916e825-52f5-4b2f-8ae3-524e05e412df"
   },
   "outputs": [
    {
     "data": {
      "text/html": [
       "<div>\n",
       "<style scoped>\n",
       "    .dataframe tbody tr th:only-of-type {\n",
       "        vertical-align: middle;\n",
       "    }\n",
       "\n",
       "    .dataframe tbody tr th {\n",
       "        vertical-align: top;\n",
       "    }\n",
       "\n",
       "    .dataframe thead th {\n",
       "        text-align: right;\n",
       "    }\n",
       "</style>\n",
       "<table border=\"1\" class=\"dataframe\">\n",
       "  <thead>\n",
       "    <tr style=\"text-align: right;\">\n",
       "      <th></th>\n",
       "      <th>Id</th>\n",
       "      <th>Open Date</th>\n",
       "      <th>City</th>\n",
       "      <th>City Group</th>\n",
       "      <th>Type</th>\n",
       "      <th>P1</th>\n",
       "      <th>P2</th>\n",
       "      <th>P3</th>\n",
       "      <th>P4</th>\n",
       "      <th>P5</th>\n",
       "      <th>P6</th>\n",
       "      <th>P7</th>\n",
       "      <th>P8</th>\n",
       "      <th>P9</th>\n",
       "      <th>P10</th>\n",
       "      <th>P11</th>\n",
       "      <th>P12</th>\n",
       "      <th>P13</th>\n",
       "      <th>P14</th>\n",
       "      <th>P15</th>\n",
       "      <th>P16</th>\n",
       "      <th>P17</th>\n",
       "      <th>P18</th>\n",
       "      <th>P19</th>\n",
       "      <th>P20</th>\n",
       "      <th>P21</th>\n",
       "      <th>P22</th>\n",
       "      <th>P23</th>\n",
       "      <th>P24</th>\n",
       "      <th>P25</th>\n",
       "      <th>P26</th>\n",
       "      <th>P27</th>\n",
       "      <th>P28</th>\n",
       "      <th>P29</th>\n",
       "      <th>P30</th>\n",
       "      <th>P31</th>\n",
       "      <th>P32</th>\n",
       "      <th>P33</th>\n",
       "      <th>P34</th>\n",
       "      <th>P35</th>\n",
       "      <th>P36</th>\n",
       "      <th>P37</th>\n",
       "      <th>revenue</th>\n",
       "    </tr>\n",
       "  </thead>\n",
       "  <tbody>\n",
       "    <tr>\n",
       "      <th>0</th>\n",
       "      <td>0</td>\n",
       "      <td>07/17/1999</td>\n",
       "      <td>İstanbul</td>\n",
       "      <td>Big Cities</td>\n",
       "      <td>IL</td>\n",
       "      <td>4</td>\n",
       "      <td>5.0</td>\n",
       "      <td>4.0</td>\n",
       "      <td>4.0</td>\n",
       "      <td>2</td>\n",
       "      <td>2</td>\n",
       "      <td>5</td>\n",
       "      <td>4</td>\n",
       "      <td>5</td>\n",
       "      <td>5</td>\n",
       "      <td>3</td>\n",
       "      <td>5</td>\n",
       "      <td>5.0</td>\n",
       "      <td>1</td>\n",
       "      <td>2</td>\n",
       "      <td>2</td>\n",
       "      <td>2</td>\n",
       "      <td>4</td>\n",
       "      <td>5</td>\n",
       "      <td>4</td>\n",
       "      <td>1</td>\n",
       "      <td>3</td>\n",
       "      <td>3</td>\n",
       "      <td>1</td>\n",
       "      <td>1</td>\n",
       "      <td>1.0</td>\n",
       "      <td>4.0</td>\n",
       "      <td>2.0</td>\n",
       "      <td>3.0</td>\n",
       "      <td>5</td>\n",
       "      <td>3</td>\n",
       "      <td>4</td>\n",
       "      <td>5</td>\n",
       "      <td>5</td>\n",
       "      <td>4</td>\n",
       "      <td>3</td>\n",
       "      <td>4</td>\n",
       "      <td>5653753.0</td>\n",
       "    </tr>\n",
       "    <tr>\n",
       "      <th>1</th>\n",
       "      <td>1</td>\n",
       "      <td>02/14/2008</td>\n",
       "      <td>Ankara</td>\n",
       "      <td>Big Cities</td>\n",
       "      <td>FC</td>\n",
       "      <td>4</td>\n",
       "      <td>5.0</td>\n",
       "      <td>4.0</td>\n",
       "      <td>4.0</td>\n",
       "      <td>1</td>\n",
       "      <td>2</td>\n",
       "      <td>5</td>\n",
       "      <td>5</td>\n",
       "      <td>5</td>\n",
       "      <td>5</td>\n",
       "      <td>1</td>\n",
       "      <td>5</td>\n",
       "      <td>5.0</td>\n",
       "      <td>0</td>\n",
       "      <td>0</td>\n",
       "      <td>0</td>\n",
       "      <td>0</td>\n",
       "      <td>0</td>\n",
       "      <td>3</td>\n",
       "      <td>2</td>\n",
       "      <td>1</td>\n",
       "      <td>3</td>\n",
       "      <td>2</td>\n",
       "      <td>0</td>\n",
       "      <td>0</td>\n",
       "      <td>0.0</td>\n",
       "      <td>0.0</td>\n",
       "      <td>3.0</td>\n",
       "      <td>3.0</td>\n",
       "      <td>0</td>\n",
       "      <td>0</td>\n",
       "      <td>0</td>\n",
       "      <td>0</td>\n",
       "      <td>0</td>\n",
       "      <td>0</td>\n",
       "      <td>0</td>\n",
       "      <td>0</td>\n",
       "      <td>6923131.0</td>\n",
       "    </tr>\n",
       "    <tr>\n",
       "      <th>2</th>\n",
       "      <td>2</td>\n",
       "      <td>03/09/2013</td>\n",
       "      <td>Diyarbakır</td>\n",
       "      <td>Other</td>\n",
       "      <td>IL</td>\n",
       "      <td>2</td>\n",
       "      <td>4.0</td>\n",
       "      <td>2.0</td>\n",
       "      <td>5.0</td>\n",
       "      <td>2</td>\n",
       "      <td>3</td>\n",
       "      <td>5</td>\n",
       "      <td>5</td>\n",
       "      <td>5</td>\n",
       "      <td>5</td>\n",
       "      <td>2</td>\n",
       "      <td>5</td>\n",
       "      <td>5.0</td>\n",
       "      <td>0</td>\n",
       "      <td>0</td>\n",
       "      <td>0</td>\n",
       "      <td>0</td>\n",
       "      <td>0</td>\n",
       "      <td>1</td>\n",
       "      <td>1</td>\n",
       "      <td>1</td>\n",
       "      <td>1</td>\n",
       "      <td>1</td>\n",
       "      <td>0</td>\n",
       "      <td>0</td>\n",
       "      <td>0.0</td>\n",
       "      <td>0.0</td>\n",
       "      <td>1.0</td>\n",
       "      <td>3.0</td>\n",
       "      <td>0</td>\n",
       "      <td>0</td>\n",
       "      <td>0</td>\n",
       "      <td>0</td>\n",
       "      <td>0</td>\n",
       "      <td>0</td>\n",
       "      <td>0</td>\n",
       "      <td>0</td>\n",
       "      <td>2055379.0</td>\n",
       "    </tr>\n",
       "    <tr>\n",
       "      <th>3</th>\n",
       "      <td>3</td>\n",
       "      <td>02/02/2012</td>\n",
       "      <td>Tokat</td>\n",
       "      <td>Other</td>\n",
       "      <td>IL</td>\n",
       "      <td>6</td>\n",
       "      <td>4.5</td>\n",
       "      <td>6.0</td>\n",
       "      <td>6.0</td>\n",
       "      <td>4</td>\n",
       "      <td>4</td>\n",
       "      <td>10</td>\n",
       "      <td>8</td>\n",
       "      <td>10</td>\n",
       "      <td>10</td>\n",
       "      <td>8</td>\n",
       "      <td>10</td>\n",
       "      <td>7.5</td>\n",
       "      <td>6</td>\n",
       "      <td>4</td>\n",
       "      <td>9</td>\n",
       "      <td>3</td>\n",
       "      <td>12</td>\n",
       "      <td>20</td>\n",
       "      <td>12</td>\n",
       "      <td>6</td>\n",
       "      <td>1</td>\n",
       "      <td>10</td>\n",
       "      <td>2</td>\n",
       "      <td>2</td>\n",
       "      <td>2.5</td>\n",
       "      <td>2.5</td>\n",
       "      <td>2.5</td>\n",
       "      <td>7.5</td>\n",
       "      <td>25</td>\n",
       "      <td>12</td>\n",
       "      <td>10</td>\n",
       "      <td>6</td>\n",
       "      <td>18</td>\n",
       "      <td>12</td>\n",
       "      <td>12</td>\n",
       "      <td>6</td>\n",
       "      <td>2675511.0</td>\n",
       "    </tr>\n",
       "    <tr>\n",
       "      <th>4</th>\n",
       "      <td>4</td>\n",
       "      <td>05/09/2009</td>\n",
       "      <td>Gaziantep</td>\n",
       "      <td>Other</td>\n",
       "      <td>IL</td>\n",
       "      <td>3</td>\n",
       "      <td>4.0</td>\n",
       "      <td>3.0</td>\n",
       "      <td>4.0</td>\n",
       "      <td>2</td>\n",
       "      <td>2</td>\n",
       "      <td>5</td>\n",
       "      <td>5</td>\n",
       "      <td>5</td>\n",
       "      <td>5</td>\n",
       "      <td>2</td>\n",
       "      <td>5</td>\n",
       "      <td>5.0</td>\n",
       "      <td>2</td>\n",
       "      <td>1</td>\n",
       "      <td>2</td>\n",
       "      <td>1</td>\n",
       "      <td>4</td>\n",
       "      <td>2</td>\n",
       "      <td>2</td>\n",
       "      <td>1</td>\n",
       "      <td>2</td>\n",
       "      <td>1</td>\n",
       "      <td>2</td>\n",
       "      <td>3</td>\n",
       "      <td>3.0</td>\n",
       "      <td>5.0</td>\n",
       "      <td>1.0</td>\n",
       "      <td>3.0</td>\n",
       "      <td>5</td>\n",
       "      <td>1</td>\n",
       "      <td>3</td>\n",
       "      <td>2</td>\n",
       "      <td>3</td>\n",
       "      <td>4</td>\n",
       "      <td>3</td>\n",
       "      <td>3</td>\n",
       "      <td>4316715.0</td>\n",
       "    </tr>\n",
       "  </tbody>\n",
       "</table>\n",
       "</div>"
      ],
      "text/plain": [
       "   Id   Open Date        City  City Group Type  ...  P34  P35  P36  P37    revenue\n",
       "0   0  07/17/1999    İstanbul  Big Cities   IL  ...    5    4    3    4  5653753.0\n",
       "1   1  02/14/2008      Ankara  Big Cities   FC  ...    0    0    0    0  6923131.0\n",
       "2   2  03/09/2013  Diyarbakır       Other   IL  ...    0    0    0    0  2055379.0\n",
       "3   3  02/02/2012       Tokat       Other   IL  ...   18   12   12    6  2675511.0\n",
       "4   4  05/09/2009   Gaziantep       Other   IL  ...    3    4    3    3  4316715.0\n",
       "\n",
       "[5 rows x 43 columns]"
      ]
     },
     "execution_count": 23,
     "metadata": {},
     "output_type": "execute_result"
    }
   ],
   "source": [
    "# checking first few rows of the training data\n",
    "train_data.head()"
   ]
  },
  {
   "cell_type": "code",
   "execution_count": 24,
   "metadata": {
    "colab": {
     "base_uri": "https://localhost:8080/"
    },
    "id": "PL0zP3aDuKZK",
    "outputId": "b2d57824-b9ba-499f-ee17-2187fdc2351b"
   },
   "outputs": [
    {
     "name": "stdout",
     "output_type": "stream",
     "text": [
      "(137, 43)\n",
      "(100000, 42)\n"
     ]
    }
   ],
   "source": [
    "# finding the shape of training and test data files\n",
    "print(train_data.shape)\n",
    "print(test_data.shape)"
   ]
  },
  {
   "cell_type": "code",
   "execution_count": 25,
   "metadata": {
    "colab": {
     "base_uri": "https://localhost:8080/"
    },
    "id": "3RcePx_0uKXc",
    "outputId": "c3a534d5-bbbd-4a43-e3a9-40d8084c6a89"
   },
   "outputs": [
    {
     "name": "stdout",
     "output_type": "stream",
     "text": [
      "<class 'pandas.core.frame.DataFrame'>\n",
      "RangeIndex: 137 entries, 0 to 136\n",
      "Data columns (total 43 columns):\n",
      " #   Column      Non-Null Count  Dtype  \n",
      "---  ------      --------------  -----  \n",
      " 0   Id          137 non-null    int64  \n",
      " 1   Open Date   137 non-null    object \n",
      " 2   City        137 non-null    object \n",
      " 3   City Group  137 non-null    object \n",
      " 4   Type        137 non-null    object \n",
      " 5   P1          137 non-null    int64  \n",
      " 6   P2          137 non-null    float64\n",
      " 7   P3          137 non-null    float64\n",
      " 8   P4          137 non-null    float64\n",
      " 9   P5          137 non-null    int64  \n",
      " 10  P6          137 non-null    int64  \n",
      " 11  P7          137 non-null    int64  \n",
      " 12  P8          137 non-null    int64  \n",
      " 13  P9          137 non-null    int64  \n",
      " 14  P10         137 non-null    int64  \n",
      " 15  P11         137 non-null    int64  \n",
      " 16  P12         137 non-null    int64  \n",
      " 17  P13         137 non-null    float64\n",
      " 18  P14         137 non-null    int64  \n",
      " 19  P15         137 non-null    int64  \n",
      " 20  P16         137 non-null    int64  \n",
      " 21  P17         137 non-null    int64  \n",
      " 22  P18         137 non-null    int64  \n",
      " 23  P19         137 non-null    int64  \n",
      " 24  P20         137 non-null    int64  \n",
      " 25  P21         137 non-null    int64  \n",
      " 26  P22         137 non-null    int64  \n",
      " 27  P23         137 non-null    int64  \n",
      " 28  P24         137 non-null    int64  \n",
      " 29  P25         137 non-null    int64  \n",
      " 30  P26         137 non-null    float64\n",
      " 31  P27         137 non-null    float64\n",
      " 32  P28         137 non-null    float64\n",
      " 33  P29         137 non-null    float64\n",
      " 34  P30         137 non-null    int64  \n",
      " 35  P31         137 non-null    int64  \n",
      " 36  P32         137 non-null    int64  \n",
      " 37  P33         137 non-null    int64  \n",
      " 38  P34         137 non-null    int64  \n",
      " 39  P35         137 non-null    int64  \n",
      " 40  P36         137 non-null    int64  \n",
      " 41  P37         137 non-null    int64  \n",
      " 42  revenue     137 non-null    float64\n",
      "dtypes: float64(9), int64(30), object(4)\n",
      "memory usage: 46.1+ KB\n"
     ]
    }
   ],
   "source": [
    "# understanding data types and null value counts for all columns of the data\n",
    "train_data.info()"
   ]
  },
  {
   "cell_type": "code",
   "execution_count": 26,
   "metadata": {
    "colab": {
     "base_uri": "https://localhost:8080/",
     "height": 317
    },
    "id": "X9_JDBExuT5P",
    "outputId": "2cabf927-c1ba-4e32-ae94-963cc63231f9"
   },
   "outputs": [
    {
     "data": {
      "text/html": [
       "<div>\n",
       "<style scoped>\n",
       "    .dataframe tbody tr th:only-of-type {\n",
       "        vertical-align: middle;\n",
       "    }\n",
       "\n",
       "    .dataframe tbody tr th {\n",
       "        vertical-align: top;\n",
       "    }\n",
       "\n",
       "    .dataframe thead th {\n",
       "        text-align: right;\n",
       "    }\n",
       "</style>\n",
       "<table border=\"1\" class=\"dataframe\">\n",
       "  <thead>\n",
       "    <tr style=\"text-align: right;\">\n",
       "      <th></th>\n",
       "      <th>Id</th>\n",
       "      <th>P1</th>\n",
       "      <th>P2</th>\n",
       "      <th>P3</th>\n",
       "      <th>P4</th>\n",
       "      <th>P5</th>\n",
       "      <th>P6</th>\n",
       "      <th>P7</th>\n",
       "      <th>P8</th>\n",
       "      <th>P9</th>\n",
       "      <th>P10</th>\n",
       "      <th>P11</th>\n",
       "      <th>P12</th>\n",
       "      <th>P13</th>\n",
       "      <th>P14</th>\n",
       "      <th>P15</th>\n",
       "      <th>P16</th>\n",
       "      <th>P17</th>\n",
       "      <th>P18</th>\n",
       "      <th>P19</th>\n",
       "      <th>P20</th>\n",
       "      <th>P21</th>\n",
       "      <th>P22</th>\n",
       "      <th>P23</th>\n",
       "      <th>P24</th>\n",
       "      <th>P25</th>\n",
       "      <th>P26</th>\n",
       "      <th>P27</th>\n",
       "      <th>P28</th>\n",
       "      <th>P29</th>\n",
       "      <th>P30</th>\n",
       "      <th>P31</th>\n",
       "      <th>P32</th>\n",
       "      <th>P33</th>\n",
       "      <th>P34</th>\n",
       "      <th>P35</th>\n",
       "      <th>P36</th>\n",
       "      <th>P37</th>\n",
       "      <th>revenue</th>\n",
       "    </tr>\n",
       "  </thead>\n",
       "  <tbody>\n",
       "    <tr>\n",
       "      <th>count</th>\n",
       "      <td>137.000000</td>\n",
       "      <td>137.000000</td>\n",
       "      <td>137.000000</td>\n",
       "      <td>137.000000</td>\n",
       "      <td>137.000000</td>\n",
       "      <td>137.000000</td>\n",
       "      <td>137.000000</td>\n",
       "      <td>137.000000</td>\n",
       "      <td>137.000000</td>\n",
       "      <td>137.000000</td>\n",
       "      <td>137.000000</td>\n",
       "      <td>137.000000</td>\n",
       "      <td>137.000000</td>\n",
       "      <td>137.000000</td>\n",
       "      <td>137.000000</td>\n",
       "      <td>137.000000</td>\n",
       "      <td>137.000000</td>\n",
       "      <td>137.000000</td>\n",
       "      <td>137.000000</td>\n",
       "      <td>137.000000</td>\n",
       "      <td>137.000000</td>\n",
       "      <td>137.000000</td>\n",
       "      <td>137.000000</td>\n",
       "      <td>137.000000</td>\n",
       "      <td>137.000000</td>\n",
       "      <td>137.000000</td>\n",
       "      <td>137.000000</td>\n",
       "      <td>137.000000</td>\n",
       "      <td>137.000000</td>\n",
       "      <td>137.000000</td>\n",
       "      <td>137.000000</td>\n",
       "      <td>137.000000</td>\n",
       "      <td>137.000000</td>\n",
       "      <td>137.000000</td>\n",
       "      <td>137.000000</td>\n",
       "      <td>137.000000</td>\n",
       "      <td>137.000000</td>\n",
       "      <td>137.000000</td>\n",
       "      <td>1.370000e+02</td>\n",
       "    </tr>\n",
       "    <tr>\n",
       "      <th>mean</th>\n",
       "      <td>68.000000</td>\n",
       "      <td>4.014599</td>\n",
       "      <td>4.408759</td>\n",
       "      <td>4.317518</td>\n",
       "      <td>4.372263</td>\n",
       "      <td>2.007299</td>\n",
       "      <td>3.357664</td>\n",
       "      <td>5.423358</td>\n",
       "      <td>5.153285</td>\n",
       "      <td>5.445255</td>\n",
       "      <td>5.489051</td>\n",
       "      <td>3.262774</td>\n",
       "      <td>5.299270</td>\n",
       "      <td>5.080292</td>\n",
       "      <td>1.416058</td>\n",
       "      <td>1.386861</td>\n",
       "      <td>1.941606</td>\n",
       "      <td>1.036496</td>\n",
       "      <td>1.941606</td>\n",
       "      <td>4.905109</td>\n",
       "      <td>4.547445</td>\n",
       "      <td>2.270073</td>\n",
       "      <td>2.226277</td>\n",
       "      <td>3.423358</td>\n",
       "      <td>1.372263</td>\n",
       "      <td>1.211679</td>\n",
       "      <td>1.470803</td>\n",
       "      <td>1.145985</td>\n",
       "      <td>3.222628</td>\n",
       "      <td>3.135036</td>\n",
       "      <td>2.729927</td>\n",
       "      <td>1.941606</td>\n",
       "      <td>2.525547</td>\n",
       "      <td>1.138686</td>\n",
       "      <td>2.489051</td>\n",
       "      <td>2.029197</td>\n",
       "      <td>2.211679</td>\n",
       "      <td>1.116788</td>\n",
       "      <td>4.453533e+06</td>\n",
       "    </tr>\n",
       "    <tr>\n",
       "      <th>std</th>\n",
       "      <td>39.692569</td>\n",
       "      <td>2.910391</td>\n",
       "      <td>1.514900</td>\n",
       "      <td>1.032337</td>\n",
       "      <td>1.016462</td>\n",
       "      <td>1.209620</td>\n",
       "      <td>2.134235</td>\n",
       "      <td>2.296809</td>\n",
       "      <td>1.858567</td>\n",
       "      <td>1.834793</td>\n",
       "      <td>1.847561</td>\n",
       "      <td>1.910767</td>\n",
       "      <td>1.941668</td>\n",
       "      <td>1.036527</td>\n",
       "      <td>2.729583</td>\n",
       "      <td>2.398677</td>\n",
       "      <td>3.505807</td>\n",
       "      <td>2.030679</td>\n",
       "      <td>3.300549</td>\n",
       "      <td>5.604467</td>\n",
       "      <td>3.708041</td>\n",
       "      <td>2.052630</td>\n",
       "      <td>1.230690</td>\n",
       "      <td>4.559609</td>\n",
       "      <td>2.304112</td>\n",
       "      <td>2.133179</td>\n",
       "      <td>2.612024</td>\n",
       "      <td>2.067039</td>\n",
       "      <td>2.308806</td>\n",
       "      <td>1.680887</td>\n",
       "      <td>5.536647</td>\n",
       "      <td>3.512093</td>\n",
       "      <td>5.230117</td>\n",
       "      <td>1.698540</td>\n",
       "      <td>5.165093</td>\n",
       "      <td>3.436272</td>\n",
       "      <td>4.168211</td>\n",
       "      <td>1.790768</td>\n",
       "      <td>2.576072e+06</td>\n",
       "    </tr>\n",
       "    <tr>\n",
       "      <th>min</th>\n",
       "      <td>0.000000</td>\n",
       "      <td>1.000000</td>\n",
       "      <td>1.000000</td>\n",
       "      <td>0.000000</td>\n",
       "      <td>3.000000</td>\n",
       "      <td>1.000000</td>\n",
       "      <td>1.000000</td>\n",
       "      <td>1.000000</td>\n",
       "      <td>1.000000</td>\n",
       "      <td>4.000000</td>\n",
       "      <td>4.000000</td>\n",
       "      <td>1.000000</td>\n",
       "      <td>2.000000</td>\n",
       "      <td>3.000000</td>\n",
       "      <td>0.000000</td>\n",
       "      <td>0.000000</td>\n",
       "      <td>0.000000</td>\n",
       "      <td>0.000000</td>\n",
       "      <td>0.000000</td>\n",
       "      <td>1.000000</td>\n",
       "      <td>1.000000</td>\n",
       "      <td>1.000000</td>\n",
       "      <td>1.000000</td>\n",
       "      <td>1.000000</td>\n",
       "      <td>0.000000</td>\n",
       "      <td>0.000000</td>\n",
       "      <td>0.000000</td>\n",
       "      <td>0.000000</td>\n",
       "      <td>1.000000</td>\n",
       "      <td>0.000000</td>\n",
       "      <td>0.000000</td>\n",
       "      <td>0.000000</td>\n",
       "      <td>0.000000</td>\n",
       "      <td>0.000000</td>\n",
       "      <td>0.000000</td>\n",
       "      <td>0.000000</td>\n",
       "      <td>0.000000</td>\n",
       "      <td>0.000000</td>\n",
       "      <td>1.149870e+06</td>\n",
       "    </tr>\n",
       "    <tr>\n",
       "      <th>25%</th>\n",
       "      <td>34.000000</td>\n",
       "      <td>2.000000</td>\n",
       "      <td>4.000000</td>\n",
       "      <td>4.000000</td>\n",
       "      <td>4.000000</td>\n",
       "      <td>1.000000</td>\n",
       "      <td>2.000000</td>\n",
       "      <td>5.000000</td>\n",
       "      <td>4.000000</td>\n",
       "      <td>4.000000</td>\n",
       "      <td>5.000000</td>\n",
       "      <td>2.000000</td>\n",
       "      <td>4.000000</td>\n",
       "      <td>5.000000</td>\n",
       "      <td>0.000000</td>\n",
       "      <td>0.000000</td>\n",
       "      <td>0.000000</td>\n",
       "      <td>0.000000</td>\n",
       "      <td>0.000000</td>\n",
       "      <td>2.000000</td>\n",
       "      <td>2.000000</td>\n",
       "      <td>1.000000</td>\n",
       "      <td>1.000000</td>\n",
       "      <td>1.000000</td>\n",
       "      <td>0.000000</td>\n",
       "      <td>0.000000</td>\n",
       "      <td>0.000000</td>\n",
       "      <td>0.000000</td>\n",
       "      <td>2.000000</td>\n",
       "      <td>2.500000</td>\n",
       "      <td>0.000000</td>\n",
       "      <td>0.000000</td>\n",
       "      <td>0.000000</td>\n",
       "      <td>0.000000</td>\n",
       "      <td>0.000000</td>\n",
       "      <td>0.000000</td>\n",
       "      <td>0.000000</td>\n",
       "      <td>0.000000</td>\n",
       "      <td>2.999068e+06</td>\n",
       "    </tr>\n",
       "    <tr>\n",
       "      <th>50%</th>\n",
       "      <td>68.000000</td>\n",
       "      <td>3.000000</td>\n",
       "      <td>5.000000</td>\n",
       "      <td>4.000000</td>\n",
       "      <td>4.000000</td>\n",
       "      <td>2.000000</td>\n",
       "      <td>3.000000</td>\n",
       "      <td>5.000000</td>\n",
       "      <td>5.000000</td>\n",
       "      <td>5.000000</td>\n",
       "      <td>5.000000</td>\n",
       "      <td>3.000000</td>\n",
       "      <td>5.000000</td>\n",
       "      <td>5.000000</td>\n",
       "      <td>0.000000</td>\n",
       "      <td>0.000000</td>\n",
       "      <td>0.000000</td>\n",
       "      <td>0.000000</td>\n",
       "      <td>0.000000</td>\n",
       "      <td>3.000000</td>\n",
       "      <td>4.000000</td>\n",
       "      <td>1.000000</td>\n",
       "      <td>2.000000</td>\n",
       "      <td>2.000000</td>\n",
       "      <td>0.000000</td>\n",
       "      <td>0.000000</td>\n",
       "      <td>0.000000</td>\n",
       "      <td>0.000000</td>\n",
       "      <td>2.500000</td>\n",
       "      <td>3.000000</td>\n",
       "      <td>0.000000</td>\n",
       "      <td>0.000000</td>\n",
       "      <td>0.000000</td>\n",
       "      <td>0.000000</td>\n",
       "      <td>0.000000</td>\n",
       "      <td>0.000000</td>\n",
       "      <td>0.000000</td>\n",
       "      <td>0.000000</td>\n",
       "      <td>3.939804e+06</td>\n",
       "    </tr>\n",
       "    <tr>\n",
       "      <th>75%</th>\n",
       "      <td>102.000000</td>\n",
       "      <td>4.000000</td>\n",
       "      <td>5.000000</td>\n",
       "      <td>5.000000</td>\n",
       "      <td>5.000000</td>\n",
       "      <td>2.000000</td>\n",
       "      <td>4.000000</td>\n",
       "      <td>5.000000</td>\n",
       "      <td>5.000000</td>\n",
       "      <td>5.000000</td>\n",
       "      <td>5.000000</td>\n",
       "      <td>4.000000</td>\n",
       "      <td>5.000000</td>\n",
       "      <td>5.000000</td>\n",
       "      <td>2.000000</td>\n",
       "      <td>2.000000</td>\n",
       "      <td>3.000000</td>\n",
       "      <td>1.000000</td>\n",
       "      <td>4.000000</td>\n",
       "      <td>5.000000</td>\n",
       "      <td>5.000000</td>\n",
       "      <td>3.000000</td>\n",
       "      <td>3.000000</td>\n",
       "      <td>5.000000</td>\n",
       "      <td>2.000000</td>\n",
       "      <td>2.000000</td>\n",
       "      <td>2.500000</td>\n",
       "      <td>2.000000</td>\n",
       "      <td>4.000000</td>\n",
       "      <td>3.000000</td>\n",
       "      <td>4.000000</td>\n",
       "      <td>3.000000</td>\n",
       "      <td>3.000000</td>\n",
       "      <td>2.000000</td>\n",
       "      <td>3.000000</td>\n",
       "      <td>4.000000</td>\n",
       "      <td>3.000000</td>\n",
       "      <td>2.000000</td>\n",
       "      <td>5.166635e+06</td>\n",
       "    </tr>\n",
       "    <tr>\n",
       "      <th>max</th>\n",
       "      <td>136.000000</td>\n",
       "      <td>12.000000</td>\n",
       "      <td>7.500000</td>\n",
       "      <td>7.500000</td>\n",
       "      <td>7.500000</td>\n",
       "      <td>8.000000</td>\n",
       "      <td>10.000000</td>\n",
       "      <td>10.000000</td>\n",
       "      <td>10.000000</td>\n",
       "      <td>10.000000</td>\n",
       "      <td>10.000000</td>\n",
       "      <td>10.000000</td>\n",
       "      <td>10.000000</td>\n",
       "      <td>7.500000</td>\n",
       "      <td>15.000000</td>\n",
       "      <td>10.000000</td>\n",
       "      <td>15.000000</td>\n",
       "      <td>15.000000</td>\n",
       "      <td>12.000000</td>\n",
       "      <td>25.000000</td>\n",
       "      <td>15.000000</td>\n",
       "      <td>15.000000</td>\n",
       "      <td>5.000000</td>\n",
       "      <td>25.000000</td>\n",
       "      <td>10.000000</td>\n",
       "      <td>10.000000</td>\n",
       "      <td>12.500000</td>\n",
       "      <td>12.500000</td>\n",
       "      <td>12.500000</td>\n",
       "      <td>7.500000</td>\n",
       "      <td>25.000000</td>\n",
       "      <td>15.000000</td>\n",
       "      <td>25.000000</td>\n",
       "      <td>6.000000</td>\n",
       "      <td>24.000000</td>\n",
       "      <td>15.000000</td>\n",
       "      <td>20.000000</td>\n",
       "      <td>8.000000</td>\n",
       "      <td>1.969694e+07</td>\n",
       "    </tr>\n",
       "  </tbody>\n",
       "</table>\n",
       "</div>"
      ],
      "text/plain": [
       "               Id          P1          P2  ...         P36         P37       revenue\n",
       "count  137.000000  137.000000  137.000000  ...  137.000000  137.000000  1.370000e+02\n",
       "mean    68.000000    4.014599    4.408759  ...    2.211679    1.116788  4.453533e+06\n",
       "std     39.692569    2.910391    1.514900  ...    4.168211    1.790768  2.576072e+06\n",
       "min      0.000000    1.000000    1.000000  ...    0.000000    0.000000  1.149870e+06\n",
       "25%     34.000000    2.000000    4.000000  ...    0.000000    0.000000  2.999068e+06\n",
       "50%     68.000000    3.000000    5.000000  ...    0.000000    0.000000  3.939804e+06\n",
       "75%    102.000000    4.000000    5.000000  ...    3.000000    2.000000  5.166635e+06\n",
       "max    136.000000   12.000000    7.500000  ...   20.000000    8.000000  1.969694e+07\n",
       "\n",
       "[8 rows x 39 columns]"
      ]
     },
     "execution_count": 26,
     "metadata": {},
     "output_type": "execute_result"
    }
   ],
   "source": [
    "# understanding important statistical parameters for the data \n",
    "train_data.describe()"
   ]
  },
  {
   "cell_type": "code",
   "execution_count": 29,
   "metadata": {
    "colab": {
     "base_uri": "https://localhost:8080/"
    },
    "id": "Q6YWPbHuuT3H",
    "outputId": "9510ace3-8bdc-441c-a249-6227b2c8552c"
   },
   "outputs": [
    {
     "name": "stdout",
     "output_type": "stream",
     "text": [
      "Series([], dtype: int64)\n",
      "Series([], dtype: int64)\n"
     ]
    }
   ],
   "source": [
    "# checking if any columns in the train and test data have null values\n",
    "print(train_data.isna().sum()[train_data.isna().sum()!= 0])\n",
    "print(test_data.isna().sum()[test_data.isna().sum()!= 0])"
   ]
  },
  {
   "cell_type": "code",
   "execution_count": 51,
   "metadata": {
    "colab": {
     "base_uri": "https://localhost:8080/"
    },
    "id": "zRGhZhipvc4T",
    "outputId": "3f1d9b2e-32e6-4b34-d7e5-a9caee307edb"
   },
   "outputs": [
    {
     "data": {
      "text/plain": [
       "revenue    1.000000\n",
       "P2         0.191518\n",
       "P28        0.155534\n",
       "P6         0.139094\n",
       "P29        0.114846\n",
       "P13        0.105085\n",
       "P21        0.097411\n",
       "P11        0.084247\n",
       "P8         0.084215\n",
       "P22        0.083562\n",
       "P10        0.073220\n",
       "P34        0.072343\n",
       "P1         0.070217\n",
       "P17        0.067137\n",
       "P30        0.066203\n",
       "P32        0.065857\n",
       "P12        0.062193\n",
       "P7         0.051165\n",
       "P36        0.050534\n",
       "P9         0.050352\n",
       "P35        0.050156\n",
       "P23        0.045507\n",
       "P31        0.040418\n",
       "P16        0.037997\n",
       "P25        0.036365\n",
       "P4         0.035685\n",
       "P18        0.034537\n",
       "P33        0.032426\n",
       "P5         0.028191\n",
       "P19        0.027984\n",
       "P3         0.024613\n",
       "P37        0.019051\n",
       "P24        0.014222\n",
       "P20        0.014147\n",
       "P27        0.013680\n",
       "P26        0.007650\n",
       "P14        0.006441\n",
       "Id         0.006277\n",
       "P15        0.000742\n",
       "Name: revenue, dtype: float64"
      ]
     },
     "execution_count": 51,
     "metadata": {},
     "output_type": "execute_result"
    }
   ],
   "source": [
    "# understanding the correlation between target variable and predictors\n",
    "abs(train_data.corr()['revenue']).sort_values(ascending=False)"
   ]
  },
  {
   "cell_type": "code",
   "execution_count": 32,
   "metadata": {
    "colab": {
     "base_uri": "https://localhost:8080/",
     "height": 285
    },
    "id": "N8le6PPduX53",
    "outputId": "6cb742b1-0445-4a48-8718-0e183ff74ca8"
   },
   "outputs": [
    {
     "data": {
      "image/png": "[encoded data removed]",
      "text/plain": [
       "<Figure size 432x288 with 1 Axes>"
      ]
     },
     "metadata": {
      "needs_background": "light"
     },
     "output_type": "display_data"
    }
   ],
   "source": [
    "# box plot for column P1\n",
    "sns.boxplot(x=train_data[\"P1\"]);"
   ]
  },
  {
   "cell_type": "code",
   "execution_count": 33,
   "metadata": {
    "colab": {
     "base_uri": "https://localhost:8080/",
     "height": 285
    },
    "id": "IYeuKgFpuX36",
    "outputId": "3781c4d6-69c5-48fb-a170-5150f47c811c"
   },
   "outputs": [
    {
     "data": {
      "image/png": "[encoded data removed]",
      "text/plain": [
       "<Figure size 432x288 with 1 Axes>"
      ]
     },
     "metadata": {
      "needs_background": "light"
     },
     "output_type": "display_data"
    }
   ],
   "source": [
    "# box plot for column P5\n",
    "sns.boxplot(x=train_data[\"P5\"]);"
   ]
  },
  {
   "cell_type": "code",
   "execution_count": 36,
   "metadata": {
    "colab": {
     "base_uri": "https://localhost:8080/",
     "height": 285
    },
    "id": "UoeOClCpu9pH",
    "outputId": "86f36790-71d0-4b3d-da72-672dbc1758b3"
   },
   "outputs": [
    {
     "data": {
      "image/png": "[encoded data removed]",
      "text/plain": [
       "<Figure size 432x288 with 1 Axes>"
      ]
     },
     "metadata": {
      "needs_background": "light"
     },
     "output_type": "display_data"
    }
   ],
   "source": [
    "# box plot for column revenue\n",
    "sns.histplot(data=train_data, x=\"revenue\");"
   ]
  },
  {
   "cell_type": "code",
   "execution_count": 43,
   "metadata": {
    "colab": {
     "base_uri": "https://localhost:8080/",
     "height": 287
    },
    "id": "xpZNC3LAu9mk",
    "outputId": "5d919bdc-5cd7-417a-ae77-fa0d2a6a3714"
   },
   "outputs": [
    {
     "data": {
      "image/png": "[encoded data removed]",
      "text/plain": [
       "<Figure size 432x288 with 1 Axes>"
      ]
     },
     "metadata": {
      "needs_background": "light"
     },
     "output_type": "display_data"
    }
   ],
   "source": [
    "# box plot for column P28\n",
    "sns.histplot(data=train_data, x=\"P28\");"
   ]
  },
  {
   "cell_type": "code",
   "execution_count": 45,
   "metadata": {
    "colab": {
     "base_uri": "https://localhost:8080/",
     "height": 307
    },
    "id": "pvNw-jB2u9hM",
    "outputId": "c81d5c6c-e0bc-41b6-d59c-48eb747ef664"
   },
   "outputs": [
    {
     "data": {
      "image/png": "[encoded data removed]",
      "text/plain": [
       "<Figure size 432x288 with 2 Axes>"
      ]
     },
     "metadata": {
      "needs_background": "light"
     },
     "output_type": "display_data"
    }
   ],
   "source": [
    "# heat map to indicate correlation\n",
    "sns.heatmap(train_data.corr());"
   ]
  },
  {
   "cell_type": "code",
   "execution_count": 47,
   "metadata": {
    "colab": {
     "base_uri": "https://localhost:8080/",
     "height": 296
    },
    "id": "FndQpt_Wvc6E",
    "outputId": "97ad0ffa-49b7-490a-f9ac-3544f84ca751"
   },
   "outputs": [
    {
     "data": {
      "image/png": "[encoded data removed]",
      "text/plain": [
       "<Figure size 432x288 with 1 Axes>"
      ]
     },
     "metadata": {
      "needs_background": "light"
     },
     "output_type": "display_data"
    }
   ],
   "source": [
    "# bar plot between Type and Revenue\n",
    "sns.barplot(x=\"Type\", y=\"revenue\", data=train_data);"
   ]
  },
  {
   "cell_type": "markdown",
   "metadata": {
    "id": "qym3W5zBht14"
   },
   "source": [
    "# Preprocessing"
   ]
  },
  {
   "cell_type": "code",
   "execution_count": 3,
   "metadata": {
    "id": "vqNgmGHqq4Gx"
   },
   "outputs": [],
   "source": [
    "# listing all categorical and numerical columns \n",
    "cat_cols = ['City Group', 'Type']\n",
    "num_cols = ['P1', 'P2', 'P3', 'P4', 'P5', 'P6', 'P7', 'P8',\n",
    "            'P9', 'P10', 'P11', 'P12', 'P13', 'P14', 'P15', 'P16', 'P17', 'P18',\n",
    "            'P19', 'P20', 'P21', 'P22', 'P23', 'P24', 'P25', 'P26', 'P27', 'P28',\n",
    "            'P29', 'P30', 'P31', 'P32', 'P33', 'P34', 'P35', 'P36', 'P37']\n",
    "target_col = ['revenue']"
   ]
  },
  {
   "cell_type": "code",
   "execution_count": 4,
   "metadata": {
    "id": "vfKaCTvhi7yT"
   },
   "outputs": [],
   "source": [
    "# making a copy of train data and removing unwanted columns\n",
    "df = train_data.copy()\n",
    "df.drop(['Id', 'Open Date', 'City'], inplace=True, axis=1)\n",
    "\n",
    "# splitting training data into set of predictors and target variable\n",
    "X = df.iloc[:, :-1]\n",
    "y = df.revenue.copy()\n",
    "\n",
    "# performing imputation to tackle missing values for categorical columns\n",
    "cat_imputer = SimpleImputer(strategy ='most_frequent')\n",
    "cat_imputer = cat_imputer.fit(X[cat_cols]) \n",
    "X[cat_cols] = cat_imputer.transform(X[cat_cols])\n",
    "\n",
    "# performing imputation to tackle missing values for numerical columns\n",
    "num_imputer = SimpleImputer(strategy ='mean')\n",
    "num_imputer = num_imputer.fit(X[num_cols]) \n",
    "X[num_cols] = num_imputer.transform(X[num_cols])\n",
    "\n",
    "# encoding categorical columns to create dummy variables\n",
    "X = pd.get_dummies(X, columns=cat_cols, drop_first=True)\n",
    "X['Type_MB'] = 0\n",
    "\n",
    "# clipping outliers\n",
    "X[num_cols] = X[num_cols].apply(lambda x: x.clip(*x.quantile([0.05, 0.95])))\n",
    "\n",
    "# normalizing the dataset\n",
    "scaler = StandardScaler()\n",
    "X[num_cols] = scaler.fit_transform(X[num_cols])"
   ]
  },
  {
   "cell_type": "code",
   "execution_count": 7,
   "metadata": {
    "id": "eYCPWvbncyPs"
   },
   "outputs": [],
   "source": [
    "# splitting given dataset into training and test data (test data created here is used for model validation and asessment)\n",
    "X_train, X_test, y_train, y_test = train_test_split(X, y, test_size = 0.2, random_state = 0)"
   ]
  },
  {
   "cell_type": "markdown",
   "metadata": {
    "id": "G9F9kx__Y0Yp"
   },
   "source": [
    "# Individual Models"
   ]
  },
  {
   "cell_type": "code",
   "execution_count": 8,
   "metadata": {
    "colab": {
     "base_uri": "https://localhost:8080/"
    },
    "id": "TEnQZEDNu2P4",
    "outputId": "440fe738-66d6-419e-db6a-b958adb1adec"
   },
   "outputs": [
    {
     "name": "stdout",
     "output_type": "stream",
     "text": [
      "RMSE - Default Model: 3404146.954168327\n",
      "Best Score:  -2345328.3616909925\n",
      "Best Parameters: {'splitter': 'best', 'min_weight_fraction_leaf': 0.1, 'criterion': 'friedman_mse'}\n",
      "RMSE - Tuned Model: 3537986.103315851\n"
     ]
    }
   ],
   "source": [
    "# model with default parameters\n",
    "reg = DecisionTreeRegressor(random_state=0)\n",
    "\n",
    "# training the model on split data, and predicting outcomes for validation set \n",
    "reg.fit(X_train, y_train)\n",
    "y_pred = reg.predict(X_test)\n",
    "\n",
    "# generating rmse\n",
    "print('RMSE - Default Model:', mean_squared_error(y_test, y_pred, squared=False))\n",
    "\n",
    "# hyperparameter tuning the regressor\n",
    "params = {\"criterion\": [\"mse\", 'friedman_mse'],\n",
    "          \"splitter\": ['best', 'random'], \n",
    "          \"min_weight_fraction_leaf\": [0.01, 0.05, 0.1]}\n",
    "\n",
    "# Initialize RandomizedSearchCV\n",
    "grid = RandomizedSearchCV(estimator = reg, param_distributions = params, cv = 3, scoring = \"neg_root_mean_squared_error\")\n",
    "\n",
    "# Fit RandomizedSearchCV\n",
    "grid.fit(X_train, y_train)\n",
    "\n",
    "# Parameters and corresponding scores for random search\n",
    "print(\"Best Score: \", grid.best_score_)\n",
    "print(\"Best Parameters:\", grid.best_params_)\n",
    "\n",
    "# Rebuilding the model with obtained parameters\n",
    "reg = DecisionTreeRegressor(splitter='best', min_weight_fraction_leaf=0.1, criterion='friedman_mse', random_state=0)\n",
    "reg.fit(X_train, y_train)\n",
    "y_pred = reg.predict(X_test)\n",
    "\n",
    "# generating rmse for final model\n",
    "print('RMSE - Tuned Model:', mean_squared_error(y_test, y_pred, squared=False))"
   ]
  },
  {
   "cell_type": "code",
   "execution_count": 9,
   "metadata": {
    "colab": {
     "base_uri": "https://localhost:8080/"
    },
    "id": "ITb8cerxu2Hi",
    "outputId": "88ee1681-5391-48b7-9601-436deef7d956"
   },
   "outputs": [
    {
     "name": "stdout",
     "output_type": "stream",
     "text": [
      "RMSE - Default Model: 3113472.4549005986\n"
     ]
    },
    {
     "name": "stderr",
     "output_type": "stream",
     "text": [
      "/usr/local/lib/python3.7/dist-packages/sklearn/model_selection/_search.py:281: UserWarning: The total space of parameters 9 is smaller than n_iter=10. Running 9 iterations. For exhaustive searches, use GridSearchCV.\n",
      "  % (grid_size, self.n_iter, grid_size), UserWarning)\n"
     ]
    },
    {
     "name": "stdout",
     "output_type": "stream",
     "text": [
      "Best Score:  -2352376.541117786\n",
      "Best Parameters: {'n_estimators': 100, 'min_weight_fraction_leaf': 0.05, 'criterion': 'mse'}\n",
      "RMSE - Tuned Model: 3175531.1131034787\n"
     ]
    }
   ],
   "source": [
    "# model with default parameters\n",
    "reg = RandomForestRegressor(random_state=0)\n",
    "\n",
    "# training the model on split data, and predicting outcomes for validation set \n",
    "reg.fit(X_train, y_train)\n",
    "y_pred = reg.predict(X_test)\n",
    "\n",
    "# generating rmse\n",
    "print('RMSE - Default Model:', mean_squared_error(y_test, y_pred, squared=False))\n",
    "\n",
    "# hyperparameter tuning the regressor\n",
    "params = {\"criterion\": [\"mse\"],\n",
    "          \"min_weight_fraction_leaf\": [0.01, 0.05, 0.1],\n",
    "          \"n_estimators\": [100, 200, 300]}\n",
    "\n",
    "# Initialize RandomizedSearchCV\n",
    "grid = RandomizedSearchCV(estimator = reg, param_distributions = params, cv = 3, scoring = \"neg_root_mean_squared_error\")\n",
    "\n",
    "# Fit RandomizedSearchCV\n",
    "grid.fit(X_train, y_train)\n",
    "\n",
    "# Parameters and corresponding scores for random search\n",
    "print(\"Best Score: \", grid.best_score_)\n",
    "print(\"Best Parameters:\", grid.best_params_)\n",
    "\n",
    "# Rebuilding the model with obtained parameters\n",
    "reg = RandomForestRegressor(n_estimators=100, min_weight_fraction_leaf=0.05, criterion='mse', random_state=0)\n",
    "reg.fit(X_train, y_train)\n",
    "y_pred = reg.predict(X_test)\n",
    "\n",
    "# generating rmse for final model\n",
    "print('RMSE - Tuned Model:', mean_squared_error(y_test, y_pred, squared=False))"
   ]
  },
  {
   "cell_type": "code",
   "execution_count": 10,
   "metadata": {
    "colab": {
     "base_uri": "https://localhost:8080/"
    },
    "id": "F9viIGwaajn2",
    "outputId": "7bc7586e-26fe-44ac-a54d-afda46383a6a"
   },
   "outputs": [
    {
     "name": "stderr",
     "output_type": "stream",
     "text": [
      "/usr/local/lib/python3.7/dist-packages/sklearn/neural_network/_multilayer_perceptron.py:571: ConvergenceWarning: Stochastic Optimizer: Maximum iterations (200) reached and the optimization hasn't converged yet.\n",
      "  % self.max_iter, ConvergenceWarning)\n"
     ]
    },
    {
     "name": "stdout",
     "output_type": "stream",
     "text": [
      "RMSE - Default Model: 5950411.574775258\n"
     ]
    },
    {
     "name": "stderr",
     "output_type": "stream",
     "text": [
      "/usr/local/lib/python3.7/dist-packages/sklearn/neural_network/_multilayer_perceptron.py:571: ConvergenceWarning: Stochastic Optimizer: Maximum iterations (200) reached and the optimization hasn't converged yet.\n",
      "  % self.max_iter, ConvergenceWarning)\n",
      "/usr/local/lib/python3.7/dist-packages/sklearn/neural_network/_multilayer_perceptron.py:571: ConvergenceWarning: Stochastic Optimizer: Maximum iterations (200) reached and the optimization hasn't converged yet.\n",
      "  % self.max_iter, ConvergenceWarning)\n",
      "/usr/local/lib/python3.7/dist-packages/sklearn/neural_network/_multilayer_perceptron.py:571: ConvergenceWarning: Stochastic Optimizer: Maximum iterations (200) reached and the optimization hasn't converged yet.\n",
      "  % self.max_iter, ConvergenceWarning)\n",
      "/usr/local/lib/python3.7/dist-packages/sklearn/neural_network/_multilayer_perceptron.py:571: ConvergenceWarning: Stochastic Optimizer: Maximum iterations (200) reached and the optimization hasn't converged yet.\n",
      "  % self.max_iter, ConvergenceWarning)\n",
      "/usr/local/lib/python3.7/dist-packages/sklearn/neural_network/_multilayer_perceptron.py:571: ConvergenceWarning: Stochastic Optimizer: Maximum iterations (200) reached and the optimization hasn't converged yet.\n",
      "  % self.max_iter, ConvergenceWarning)\n",
      "/usr/local/lib/python3.7/dist-packages/sklearn/neural_network/_multilayer_perceptron.py:571: ConvergenceWarning: Stochastic Optimizer: Maximum iterations (200) reached and the optimization hasn't converged yet.\n",
      "  % self.max_iter, ConvergenceWarning)\n",
      "/usr/local/lib/python3.7/dist-packages/sklearn/neural_network/_multilayer_perceptron.py:571: ConvergenceWarning: Stochastic Optimizer: Maximum iterations (200) reached and the optimization hasn't converged yet.\n",
      "  % self.max_iter, ConvergenceWarning)\n",
      "/usr/local/lib/python3.7/dist-packages/sklearn/neural_network/_multilayer_perceptron.py:571: ConvergenceWarning: Stochastic Optimizer: Maximum iterations (200) reached and the optimization hasn't converged yet.\n",
      "  % self.max_iter, ConvergenceWarning)\n",
      "/usr/local/lib/python3.7/dist-packages/sklearn/neural_network/_multilayer_perceptron.py:571: ConvergenceWarning: Stochastic Optimizer: Maximum iterations (200) reached and the optimization hasn't converged yet.\n",
      "  % self.max_iter, ConvergenceWarning)\n",
      "/usr/local/lib/python3.7/dist-packages/sklearn/neural_network/_multilayer_perceptron.py:571: ConvergenceWarning: Stochastic Optimizer: Maximum iterations (200) reached and the optimization hasn't converged yet.\n",
      "  % self.max_iter, ConvergenceWarning)\n",
      "/usr/local/lib/python3.7/dist-packages/sklearn/neural_network/_multilayer_perceptron.py:571: ConvergenceWarning: Stochastic Optimizer: Maximum iterations (200) reached and the optimization hasn't converged yet.\n",
      "  % self.max_iter, ConvergenceWarning)\n",
      "/usr/local/lib/python3.7/dist-packages/sklearn/neural_network/_multilayer_perceptron.py:571: ConvergenceWarning: Stochastic Optimizer: Maximum iterations (200) reached and the optimization hasn't converged yet.\n",
      "  % self.max_iter, ConvergenceWarning)\n",
      "/usr/local/lib/python3.7/dist-packages/sklearn/neural_network/_multilayer_perceptron.py:571: ConvergenceWarning: Stochastic Optimizer: Maximum iterations (200) reached and the optimization hasn't converged yet.\n",
      "  % self.max_iter, ConvergenceWarning)\n",
      "/usr/local/lib/python3.7/dist-packages/sklearn/neural_network/_multilayer_perceptron.py:571: ConvergenceWarning: Stochastic Optimizer: Maximum iterations (200) reached and the optimization hasn't converged yet.\n",
      "  % self.max_iter, ConvergenceWarning)\n",
      "/usr/local/lib/python3.7/dist-packages/sklearn/neural_network/_multilayer_perceptron.py:571: ConvergenceWarning: Stochastic Optimizer: Maximum iterations (200) reached and the optimization hasn't converged yet.\n",
      "  % self.max_iter, ConvergenceWarning)\n",
      "/usr/local/lib/python3.7/dist-packages/sklearn/neural_network/_multilayer_perceptron.py:571: ConvergenceWarning: Stochastic Optimizer: Maximum iterations (200) reached and the optimization hasn't converged yet.\n",
      "  % self.max_iter, ConvergenceWarning)\n",
      "/usr/local/lib/python3.7/dist-packages/sklearn/neural_network/_multilayer_perceptron.py:571: ConvergenceWarning: Stochastic Optimizer: Maximum iterations (200) reached and the optimization hasn't converged yet.\n",
      "  % self.max_iter, ConvergenceWarning)\n",
      "/usr/local/lib/python3.7/dist-packages/sklearn/neural_network/_multilayer_perceptron.py:571: ConvergenceWarning: Stochastic Optimizer: Maximum iterations (200) reached and the optimization hasn't converged yet.\n",
      "  % self.max_iter, ConvergenceWarning)\n",
      "/usr/local/lib/python3.7/dist-packages/sklearn/neural_network/_multilayer_perceptron.py:571: ConvergenceWarning: Stochastic Optimizer: Maximum iterations (200) reached and the optimization hasn't converged yet.\n",
      "  % self.max_iter, ConvergenceWarning)\n",
      "/usr/local/lib/python3.7/dist-packages/sklearn/neural_network/_multilayer_perceptron.py:571: ConvergenceWarning: Stochastic Optimizer: Maximum iterations (200) reached and the optimization hasn't converged yet.\n",
      "  % self.max_iter, ConvergenceWarning)\n",
      "/usr/local/lib/python3.7/dist-packages/sklearn/neural_network/_multilayer_perceptron.py:571: ConvergenceWarning: Stochastic Optimizer: Maximum iterations (200) reached and the optimization hasn't converged yet.\n",
      "  % self.max_iter, ConvergenceWarning)\n",
      "/usr/local/lib/python3.7/dist-packages/sklearn/neural_network/_multilayer_perceptron.py:571: ConvergenceWarning: Stochastic Optimizer: Maximum iterations (200) reached and the optimization hasn't converged yet.\n",
      "  % self.max_iter, ConvergenceWarning)\n",
      "/usr/local/lib/python3.7/dist-packages/sklearn/neural_network/_multilayer_perceptron.py:571: ConvergenceWarning: Stochastic Optimizer: Maximum iterations (200) reached and the optimization hasn't converged yet.\n",
      "  % self.max_iter, ConvergenceWarning)\n",
      "/usr/local/lib/python3.7/dist-packages/sklearn/neural_network/_multilayer_perceptron.py:571: ConvergenceWarning: Stochastic Optimizer: Maximum iterations (200) reached and the optimization hasn't converged yet.\n",
      "  % self.max_iter, ConvergenceWarning)\n",
      "/usr/local/lib/python3.7/dist-packages/sklearn/neural_network/_multilayer_perceptron.py:571: ConvergenceWarning: Stochastic Optimizer: Maximum iterations (200) reached and the optimization hasn't converged yet.\n",
      "  % self.max_iter, ConvergenceWarning)\n",
      "/usr/local/lib/python3.7/dist-packages/sklearn/neural_network/_multilayer_perceptron.py:571: ConvergenceWarning: Stochastic Optimizer: Maximum iterations (200) reached and the optimization hasn't converged yet.\n",
      "  % self.max_iter, ConvergenceWarning)\n",
      "/usr/local/lib/python3.7/dist-packages/sklearn/neural_network/_multilayer_perceptron.py:571: ConvergenceWarning: Stochastic Optimizer: Maximum iterations (200) reached and the optimization hasn't converged yet.\n",
      "  % self.max_iter, ConvergenceWarning)\n",
      "/usr/local/lib/python3.7/dist-packages/sklearn/neural_network/_multilayer_perceptron.py:571: ConvergenceWarning: Stochastic Optimizer: Maximum iterations (200) reached and the optimization hasn't converged yet.\n",
      "  % self.max_iter, ConvergenceWarning)\n",
      "/usr/local/lib/python3.7/dist-packages/sklearn/neural_network/_multilayer_perceptron.py:571: ConvergenceWarning: Stochastic Optimizer: Maximum iterations (200) reached and the optimization hasn't converged yet.\n",
      "  % self.max_iter, ConvergenceWarning)\n",
      "/usr/local/lib/python3.7/dist-packages/sklearn/neural_network/_multilayer_perceptron.py:571: ConvergenceWarning: Stochastic Optimizer: Maximum iterations (200) reached and the optimization hasn't converged yet.\n",
      "  % self.max_iter, ConvergenceWarning)\n",
      "/usr/local/lib/python3.7/dist-packages/sklearn/neural_network/_multilayer_perceptron.py:571: ConvergenceWarning: Stochastic Optimizer: Maximum iterations (200) reached and the optimization hasn't converged yet.\n",
      "  % self.max_iter, ConvergenceWarning)\n"
     ]
    },
    {
     "name": "stdout",
     "output_type": "stream",
     "text": [
      "Best Score:  -4879485.19441012\n",
      "Best Parameters: {'learning_rate': 'constant', 'hidden_layer_sizes': (200,), 'activation': 'relu'}\n",
      "RMSE - Tuned Model: 5950359.743679128\n"
     ]
    },
    {
     "name": "stderr",
     "output_type": "stream",
     "text": [
      "/usr/local/lib/python3.7/dist-packages/sklearn/neural_network/_multilayer_perceptron.py:571: ConvergenceWarning: Stochastic Optimizer: Maximum iterations (200) reached and the optimization hasn't converged yet.\n",
      "  % self.max_iter, ConvergenceWarning)\n"
     ]
    }
   ],
   "source": [
    "# model with default parameters\n",
    "reg = MLPRegressor(random_state=0)\n",
    "\n",
    "# training the model on split data, and predicting outcomes for validation set \n",
    "reg.fit(X_train, y_train)\n",
    "y_pred = reg.predict(X_test)\n",
    "\n",
    "# generating rmse\n",
    "print('RMSE - Default Model:', mean_squared_error(y_test, y_pred, squared=False))\n",
    "\n",
    "# hyperparameter tuning the regressor\n",
    "params = {\"hidden_layer_sizes\": [(100, ), (200, )],\n",
    "          \"activation\": ['logistic', 'relu', 'tanh'], \n",
    "          \"learning_rate\": ['constant', 'adaptive']}\n",
    "\n",
    "# Initialize RandomizedSearchCV\n",
    "grid = RandomizedSearchCV(estimator = reg, param_distributions = params, cv = 3, scoring = \"neg_root_mean_squared_error\")\n",
    "\n",
    "# Fit RandomizedSearchCV\n",
    "grid.fit(X_train, y_train)\n",
    "\n",
    "# Parameters and corresponding scores for random search\n",
    "print(\"Best Score: \", grid.best_score_)\n",
    "print(\"Best Parameters:\", grid.best_params_)\n",
    "\n",
    "# Rebuilding the model with obtained parameters\n",
    "reg = MLPRegressor(learning_rate='adaptive', hidden_layer_sizes=(200, ), activation='relu', random_state=0)\n",
    "reg.fit(X_train, y_train)\n",
    "y_pred = reg.predict(X_test)\n",
    "\n",
    "# generating rmse for final model\n",
    "print('RMSE - Tuned Model:', mean_squared_error(y_test, y_pred, squared=False))"
   ]
  },
  {
   "cell_type": "code",
   "execution_count": 11,
   "metadata": {
    "colab": {
     "base_uri": "https://localhost:8080/"
    },
    "id": "XClAKu0_ajlP",
    "outputId": "172d5f35-a41b-4dbd-bb06-164593fb2b0c"
   },
   "outputs": [
    {
     "name": "stdout",
     "output_type": "stream",
     "text": [
      "RMSE: 3461413.4865653166\n",
      "Best Score:  -2337445.834222009\n",
      "Best Parameters: {'kernel': 'linear', 'C': 1.5}\n",
      "RMSE: 3461476.4410934015\n"
     ]
    },
    {
     "name": "stderr",
     "output_type": "stream",
     "text": [
      "/usr/local/lib/python3.7/dist-packages/sklearn/model_selection/_search.py:281: UserWarning: The total space of parameters 9 is smaller than n_iter=10. Running 9 iterations. For exhaustive searches, use GridSearchCV.\n",
      "  % (grid_size, self.n_iter, grid_size), UserWarning)\n"
     ]
    }
   ],
   "source": [
    "# model with default parameters\n",
    "reg = SVR()\n",
    "\n",
    "# training the model on split data, and predicting outcomes for validation set \n",
    "reg.fit(X_train, y_train)\n",
    "y_pred = reg.predict(X_test)\n",
    "\n",
    "# generating rmse\n",
    "print('RMSE:', mean_squared_error(y_test, y_pred, squared=False))\n",
    "\n",
    "# hyperparameter tuning the regressor\n",
    "params = {\"kernel\": [\"linear\", \"rbf\", 'sigmoid'],\n",
    "          \"C\": [0.5, 1, 1.5]}\n",
    "\n",
    "# Initialize RandomizedSearchCV\n",
    "grid = RandomizedSearchCV(estimator = reg, param_distributions = params, cv = 3, scoring = \"neg_root_mean_squared_error\")\n",
    "\n",
    "# Fit RandomizedSearchCV\n",
    "grid.fit(X_train, y_train)\n",
    "\n",
    "# Parameters and corresponding scores for random search\n",
    "print(\"Best Score: \", grid.best_score_)\n",
    "print(\"Best Parameters:\", grid.best_params_)\n",
    "\n",
    "# Rebuilding the model with obtained parameters\n",
    "reg = SVR(kernel='linear', C=1.5)\n",
    "reg.fit(X_train, y_train)\n",
    "y_pred = reg.predict(X_test)\n",
    "\n",
    "# generating rmse for final model\n",
    "print('RMSE:', mean_squared_error(y_test, y_pred, squared=False))"
   ]
  },
  {
   "cell_type": "code",
   "execution_count": 12,
   "metadata": {
    "colab": {
     "base_uri": "https://localhost:8080/"
    },
    "id": "CkactewLajiN",
    "outputId": "e3651ad9-524b-4b6c-8bb4-4cf80166c8fd"
   },
   "outputs": [
    {
     "name": "stdout",
     "output_type": "stream",
     "text": [
      "RMSE: 3259756.9991251137\n",
      "Best Score:  -4879596.489377307\n",
      "Best Parameters: {'penalty': 'l1', 'loss': 'huber'}\n"
     ]
    },
    {
     "name": "stderr",
     "output_type": "stream",
     "text": [
      "/usr/local/lib/python3.7/dist-packages/sklearn/model_selection/_search.py:281: UserWarning: The total space of parameters 2 is smaller than n_iter=10. Running 2 iterations. For exhaustive searches, use GridSearchCV.\n",
      "  % (grid_size, self.n_iter, grid_size), UserWarning)\n",
      "/usr/local/lib/python3.7/dist-packages/sklearn/linear_model/_stochastic_gradient.py:1187: ConvergenceWarning: Maximum number of iteration reached before convergence. Consider increasing max_iter to improve the fit.\n",
      "  ConvergenceWarning)\n",
      "/usr/local/lib/python3.7/dist-packages/sklearn/linear_model/_stochastic_gradient.py:1187: ConvergenceWarning: Maximum number of iteration reached before convergence. Consider increasing max_iter to improve the fit.\n",
      "  ConvergenceWarning)\n",
      "/usr/local/lib/python3.7/dist-packages/sklearn/linear_model/_stochastic_gradient.py:1187: ConvergenceWarning: Maximum number of iteration reached before convergence. Consider increasing max_iter to improve the fit.\n",
      "  ConvergenceWarning)\n"
     ]
    },
    {
     "name": "stdout",
     "output_type": "stream",
     "text": [
      "RMSE: 5950468.502483623\n"
     ]
    },
    {
     "name": "stderr",
     "output_type": "stream",
     "text": [
      "/usr/local/lib/python3.7/dist-packages/sklearn/linear_model/_stochastic_gradient.py:1187: ConvergenceWarning: Maximum number of iteration reached before convergence. Consider increasing max_iter to improve the fit.\n",
      "  ConvergenceWarning)\n"
     ]
    }
   ],
   "source": [
    "# model with default parameters\n",
    "reg = SGDRegressor(random_state=0)\n",
    "\n",
    "# training the model on split data, and predicting outcomes for validation set \n",
    "reg.fit(X_train, y_train)\n",
    "y_pred = reg.predict(X_test)\n",
    "\n",
    "# generating rmse\n",
    "print('RMSE:', mean_squared_error(y_test, y_pred, squared=False))\n",
    "\n",
    "# hyperparameter tuning the regressor\n",
    "params = {\"penalty\": [\"l1\", \"l2\"],\n",
    "          \"loss\": ['huber']}\n",
    "\n",
    "# Initialize RandomizedSearchCV\n",
    "grid = RandomizedSearchCV(estimator = reg, param_distributions = params, cv = 3, scoring = \"neg_root_mean_squared_error\")\n",
    "\n",
    "# Fit RandomizedSearchCV\n",
    "grid.fit(X_train, y_train)\n",
    "\n",
    "# Parameters and corresponding scores for random search\n",
    "print(\"Best Score: \", grid.best_score_)\n",
    "print(\"Best Parameters:\", grid.best_params_)\n",
    "\n",
    "# Rebuilding the model with obtained parameters\n",
    "reg = SGDRegressor(penalty='l1', loss='huber', random_state=0)\n",
    "reg.fit(X_train, y_train)\n",
    "y_pred = reg.predict(X_test)\n",
    "\n",
    "# generating rmse for final model\n",
    "print('RMSE:', mean_squared_error(y_test, y_pred, squared=False))"
   ]
  },
  {
   "cell_type": "markdown",
   "metadata": {
    "id": "RLS3oS1EY4Um"
   },
   "source": [
    "# Stacking"
   ]
  },
  {
   "cell_type": "code",
   "execution_count": 52,
   "metadata": {
    "id": "W1RJXnpT9w6D"
   },
   "outputs": [],
   "source": [
    "# setting up the base layer for stacking\n",
    "\n",
    "base_models = [\n",
    "               DecisionTreeRegressor(splitter='best', min_weight_fraction_leaf=0.1, criterion='friedman_mse', random_state=0),\n",
    "               RandomForestRegressor(n_estimators=100, min_weight_fraction_leaf=0.05, criterion='mse', random_state=0),\n",
    "               MLPRegressor(learning_rate='adaptive', hidden_layer_sizes=(200, ), activation='relu', random_state=0, early_stopping=True),\n",
    "               SVR(kernel='linear', C=1.5),\n",
    "               SGDRegressor(penalty='l1', loss='huber', random_state=0)\n",
    "]\n",
    "\n",
    "# setting up the stacking regressor - variant 1 \n",
    "\n",
    "meta_model1 = XGBRegressor()\n",
    "\n",
    "sreg1 = StackingCVRegressor(base_models,\n",
    "                           shuffle = False,\n",
    "                           cv = 3,\n",
    "                           meta_regressor = meta_model1)\n",
    "\n",
    "\n",
    "# setting up the stacking regressor - variant 2\n",
    "\n",
    "meta_model2 = SGDRegressor()\n",
    "\n",
    "sreg2 = StackingCVRegressor(base_models,\n",
    "                           shuffle = False,\n",
    "                           cv = 3,\n",
    "                           meta_regressor = meta_model2)"
   ]
  },
  {
   "cell_type": "code",
   "execution_count": 61,
   "metadata": {
    "colab": {
     "base_uri": "https://localhost:8080/"
    },
    "id": "0CoMKaQ590Hv",
    "outputId": "29bfbc97-ea4b-4f6b-b830-fcdd6b9f0380"
   },
   "outputs": [
    {
     "name": "stderr",
     "output_type": "stream",
     "text": [
      "/usr/local/lib/python3.7/dist-packages/sklearn/linear_model/_stochastic_gradient.py:1187: ConvergenceWarning: Maximum number of iteration reached before convergence. Consider increasing max_iter to improve the fit.\n",
      "  ConvergenceWarning)\n"
     ]
    },
    {
     "name": "stdout",
     "output_type": "stream",
     "text": [
      "[19:39:50] WARNING: /workspace/src/objective/regression_obj.cu:152: reg:linear is now deprecated in favor of reg:squarederror.\n"
     ]
    },
    {
     "name": "stderr",
     "output_type": "stream",
     "text": [
      "/usr/local/lib/python3.7/dist-packages/sklearn/linear_model/_stochastic_gradient.py:1187: ConvergenceWarning: Maximum number of iteration reached before convergence. Consider increasing max_iter to improve the fit.\n",
      "  ConvergenceWarning)\n"
     ]
    },
    {
     "name": "stdout",
     "output_type": "stream",
     "text": [
      "Stacked Model - Variant 1\n",
      "RMSE: 3444645.876121449\n"
     ]
    },
    {
     "name": "stderr",
     "output_type": "stream",
     "text": [
      "/usr/local/lib/python3.7/dist-packages/sklearn/linear_model/_stochastic_gradient.py:1187: ConvergenceWarning: Maximum number of iteration reached before convergence. Consider increasing max_iter to improve the fit.\n",
      "  ConvergenceWarning)\n"
     ]
    },
    {
     "name": "stdout",
     "output_type": "stream",
     "text": [
      "Stacked Model - Variant 2\n",
      "RMSE: 1.7752498151932912e+22\n"
     ]
    },
    {
     "name": "stderr",
     "output_type": "stream",
     "text": [
      "/usr/local/lib/python3.7/dist-packages/sklearn/linear_model/_stochastic_gradient.py:1187: ConvergenceWarning: Maximum number of iteration reached before convergence. Consider increasing max_iter to improve the fit.\n",
      "  ConvergenceWarning)\n"
     ]
    }
   ],
   "source": [
    "# training the stacked model - variant 1 \n",
    "sreg1.fit(X_train.values, y_train.values)\n",
    "y_pred1 = sreg1.predict(X_test)\n",
    "\n",
    "# generating rmse\n",
    "print('Stacked Model - Variant 1')\n",
    "print('RMSE:', mean_squared_error(y_test, y_pred1, squared=False))\n",
    "\n",
    "# training the stacked model - variant 2\n",
    "sreg2.fit(X_train.values, y_train.values)\n",
    "y_pred2 = sreg2.predict(X_test)\n",
    "\n",
    "# generating rmse\n",
    "print('Stacked Model - Variant 2')\n",
    "print('RMSE:', mean_squared_error(y_test, y_pred2, squared=False))"
   ]
  },
  {
   "cell_type": "code",
   "execution_count": 55,
   "metadata": {
    "colab": {
     "base_uri": "https://localhost:8080/"
    },
    "id": "SUwUqgcTsxjc",
    "outputId": "b171765d-8326-491d-e4d5-e368d94bae08"
   },
   "outputs": [
    {
     "name": "stdout",
     "output_type": "stream",
     "text": [
      "Fitting 3 folds for each of 10 candidates, totalling 30 fits\n",
      "[CV] meta_regressor__n_estimators=100, meta_regressor__learning_rate=0.05, meta_regressor__booster=dart \n"
     ]
    },
    {
     "name": "stderr",
     "output_type": "stream",
     "text": [
      "[Parallel(n_jobs=1)]: Using backend SequentialBackend with 1 concurrent workers.\n",
      "/usr/local/lib/python3.7/dist-packages/sklearn/linear_model/_stochastic_gradient.py:1187: ConvergenceWarning: Maximum number of iteration reached before convergence. Consider increasing max_iter to improve the fit.\n",
      "  ConvergenceWarning)\n"
     ]
    },
    {
     "name": "stdout",
     "output_type": "stream",
     "text": [
      "[19:33:39] WARNING: /workspace/src/objective/regression_obj.cu:152: reg:linear is now deprecated in favor of reg:squarederror.\n"
     ]
    },
    {
     "name": "stderr",
     "output_type": "stream",
     "text": [
      "/usr/local/lib/python3.7/dist-packages/sklearn/linear_model/_stochastic_gradient.py:1187: ConvergenceWarning: Maximum number of iteration reached before convergence. Consider increasing max_iter to improve the fit.\n",
      "  ConvergenceWarning)\n",
      "[Parallel(n_jobs=1)]: Done   1 out of   1 | elapsed:    1.0s remaining:    0.0s\n"
     ]
    },
    {
     "name": "stdout",
     "output_type": "stream",
     "text": [
      "[CV]  meta_regressor__n_estimators=100, meta_regressor__learning_rate=0.05, meta_regressor__booster=dart, total=   1.0s\n",
      "[CV] meta_regressor__n_estimators=100, meta_regressor__learning_rate=0.05, meta_regressor__booster=dart \n",
      "[19:33:40] WARNING: /workspace/src/objective/regression_obj.cu:152: reg:linear is now deprecated in favor of reg:squarederror.\n",
      "[CV]  meta_regressor__n_estimators=100, meta_regressor__learning_rate=0.05, meta_regressor__booster=dart, total=   1.0s\n",
      "[CV] meta_regressor__n_estimators=100, meta_regressor__learning_rate=0.05, meta_regressor__booster=dart \n",
      "[19:33:41] WARNING: /workspace/src/objective/regression_obj.cu:152: reg:linear is now deprecated in favor of reg:squarederror.\n",
      "[CV]  meta_regressor__n_estimators=100, meta_regressor__learning_rate=0.05, meta_regressor__booster=dart, total=   1.0s\n",
      "[CV] meta_regressor__n_estimators=300, meta_regressor__learning_rate=0.01, meta_regressor__booster=gbtree \n"
     ]
    },
    {
     "name": "stderr",
     "output_type": "stream",
     "text": [
      "/usr/local/lib/python3.7/dist-packages/sklearn/linear_model/_stochastic_gradient.py:1187: ConvergenceWarning: Maximum number of iteration reached before convergence. Consider increasing max_iter to improve the fit.\n",
      "  ConvergenceWarning)\n"
     ]
    },
    {
     "name": "stdout",
     "output_type": "stream",
     "text": [
      "[19:33:42] WARNING: /workspace/src/objective/regression_obj.cu:152: reg:linear is now deprecated in favor of reg:squarederror.\n"
     ]
    },
    {
     "name": "stderr",
     "output_type": "stream",
     "text": [
      "/usr/local/lib/python3.7/dist-packages/sklearn/linear_model/_stochastic_gradient.py:1187: ConvergenceWarning: Maximum number of iteration reached before convergence. Consider increasing max_iter to improve the fit.\n",
      "  ConvergenceWarning)\n"
     ]
    },
    {
     "name": "stdout",
     "output_type": "stream",
     "text": [
      "[CV]  meta_regressor__n_estimators=300, meta_regressor__learning_rate=0.01, meta_regressor__booster=gbtree, total=   1.0s\n",
      "[CV] meta_regressor__n_estimators=300, meta_regressor__learning_rate=0.01, meta_regressor__booster=gbtree \n",
      "[19:33:43] WARNING: /workspace/src/objective/regression_obj.cu:152: reg:linear is now deprecated in favor of reg:squarederror.\n",
      "[CV]  meta_regressor__n_estimators=300, meta_regressor__learning_rate=0.01, meta_regressor__booster=gbtree, total=   1.0s\n",
      "[CV] meta_regressor__n_estimators=300, meta_regressor__learning_rate=0.01, meta_regressor__booster=gbtree \n",
      "[19:33:44] WARNING: /workspace/src/objective/regression_obj.cu:152: reg:linear is now deprecated in favor of reg:squarederror.\n",
      "[CV]  meta_regressor__n_estimators=300, meta_regressor__learning_rate=0.01, meta_regressor__booster=gbtree, total=   1.0s\n",
      "[CV] meta_regressor__n_estimators=200, meta_regressor__learning_rate=0.1, meta_regressor__booster=gbtree \n"
     ]
    },
    {
     "name": "stderr",
     "output_type": "stream",
     "text": [
      "/usr/local/lib/python3.7/dist-packages/sklearn/linear_model/_stochastic_gradient.py:1187: ConvergenceWarning: Maximum number of iteration reached before convergence. Consider increasing max_iter to improve the fit.\n",
      "  ConvergenceWarning)\n"
     ]
    },
    {
     "name": "stdout",
     "output_type": "stream",
     "text": [
      "[19:33:45] WARNING: /workspace/src/objective/regression_obj.cu:152: reg:linear is now deprecated in favor of reg:squarederror.\n"
     ]
    },
    {
     "name": "stderr",
     "output_type": "stream",
     "text": [
      "/usr/local/lib/python3.7/dist-packages/sklearn/linear_model/_stochastic_gradient.py:1187: ConvergenceWarning: Maximum number of iteration reached before convergence. Consider increasing max_iter to improve the fit.\n",
      "  ConvergenceWarning)\n"
     ]
    },
    {
     "name": "stdout",
     "output_type": "stream",
     "text": [
      "[CV]  meta_regressor__n_estimators=200, meta_regressor__learning_rate=0.1, meta_regressor__booster=gbtree, total=   1.0s\n",
      "[CV] meta_regressor__n_estimators=200, meta_regressor__learning_rate=0.1, meta_regressor__booster=gbtree \n",
      "[19:33:46] WARNING: /workspace/src/objective/regression_obj.cu:152: reg:linear is now deprecated in favor of reg:squarederror.\n",
      "[CV]  meta_regressor__n_estimators=200, meta_regressor__learning_rate=0.1, meta_regressor__booster=gbtree, total=   1.0s\n",
      "[CV] meta_regressor__n_estimators=200, meta_regressor__learning_rate=0.1, meta_regressor__booster=gbtree \n",
      "[19:33:47] WARNING: /workspace/src/objective/regression_obj.cu:152: reg:linear is now deprecated in favor of reg:squarederror.\n",
      "[CV]  meta_regressor__n_estimators=200, meta_regressor__learning_rate=0.1, meta_regressor__booster=gbtree, total=   1.0s\n",
      "[CV] meta_regressor__n_estimators=100, meta_regressor__learning_rate=0.05, meta_regressor__booster=gblinear \n"
     ]
    },
    {
     "name": "stderr",
     "output_type": "stream",
     "text": [
      "/usr/local/lib/python3.7/dist-packages/sklearn/linear_model/_stochastic_gradient.py:1187: ConvergenceWarning: Maximum number of iteration reached before convergence. Consider increasing max_iter to improve the fit.\n",
      "  ConvergenceWarning)\n"
     ]
    },
    {
     "name": "stdout",
     "output_type": "stream",
     "text": [
      "[19:33:48] WARNING: /workspace/src/objective/regression_obj.cu:152: reg:linear is now deprecated in favor of reg:squarederror.\n"
     ]
    },
    {
     "name": "stderr",
     "output_type": "stream",
     "text": [
      "/usr/local/lib/python3.7/dist-packages/sklearn/linear_model/_stochastic_gradient.py:1187: ConvergenceWarning: Maximum number of iteration reached before convergence. Consider increasing max_iter to improve the fit.\n",
      "  ConvergenceWarning)\n"
     ]
    },
    {
     "name": "stdout",
     "output_type": "stream",
     "text": [
      "[CV]  meta_regressor__n_estimators=100, meta_regressor__learning_rate=0.05, meta_regressor__booster=gblinear, total=   1.0s\n",
      "[CV] meta_regressor__n_estimators=100, meta_regressor__learning_rate=0.05, meta_regressor__booster=gblinear \n",
      "[19:33:49] WARNING: /workspace/src/objective/regression_obj.cu:152: reg:linear is now deprecated in favor of reg:squarederror.\n",
      "[CV]  meta_regressor__n_estimators=100, meta_regressor__learning_rate=0.05, meta_regressor__booster=gblinear, total=   1.0s\n",
      "[CV] meta_regressor__n_estimators=100, meta_regressor__learning_rate=0.05, meta_regressor__booster=gblinear \n",
      "[19:33:50] WARNING: /workspace/src/objective/regression_obj.cu:152: reg:linear is now deprecated in favor of reg:squarederror.\n",
      "[CV]  meta_regressor__n_estimators=100, meta_regressor__learning_rate=0.05, meta_regressor__booster=gblinear, total=   0.9s\n",
      "[CV] meta_regressor__n_estimators=300, meta_regressor__learning_rate=0.1, meta_regressor__booster=dart \n"
     ]
    },
    {
     "name": "stderr",
     "output_type": "stream",
     "text": [
      "/usr/local/lib/python3.7/dist-packages/sklearn/linear_model/_stochastic_gradient.py:1187: ConvergenceWarning: Maximum number of iteration reached before convergence. Consider increasing max_iter to improve the fit.\n",
      "  ConvergenceWarning)\n"
     ]
    },
    {
     "name": "stdout",
     "output_type": "stream",
     "text": [
      "[19:33:51] WARNING: /workspace/src/objective/regression_obj.cu:152: reg:linear is now deprecated in favor of reg:squarederror.\n"
     ]
    },
    {
     "name": "stderr",
     "output_type": "stream",
     "text": [
      "/usr/local/lib/python3.7/dist-packages/sklearn/linear_model/_stochastic_gradient.py:1187: ConvergenceWarning: Maximum number of iteration reached before convergence. Consider increasing max_iter to improve the fit.\n",
      "  ConvergenceWarning)\n"
     ]
    },
    {
     "name": "stdout",
     "output_type": "stream",
     "text": [
      "[CV]  meta_regressor__n_estimators=300, meta_regressor__learning_rate=0.1, meta_regressor__booster=dart, total=   1.1s\n",
      "[CV] meta_regressor__n_estimators=300, meta_regressor__learning_rate=0.1, meta_regressor__booster=dart \n",
      "[19:33:52] WARNING: /workspace/src/objective/regression_obj.cu:152: reg:linear is now deprecated in favor of reg:squarederror.\n",
      "[CV]  meta_regressor__n_estimators=300, meta_regressor__learning_rate=0.1, meta_regressor__booster=dart, total=   1.1s\n",
      "[CV] meta_regressor__n_estimators=300, meta_regressor__learning_rate=0.1, meta_regressor__booster=dart \n",
      "[19:33:53] WARNING: /workspace/src/objective/regression_obj.cu:152: reg:linear is now deprecated in favor of reg:squarederror.\n",
      "[CV]  meta_regressor__n_estimators=300, meta_regressor__learning_rate=0.1, meta_regressor__booster=dart, total=   1.1s\n",
      "[CV] meta_regressor__n_estimators=100, meta_regressor__learning_rate=0.1, meta_regressor__booster=gblinear \n"
     ]
    },
    {
     "name": "stderr",
     "output_type": "stream",
     "text": [
      "/usr/local/lib/python3.7/dist-packages/sklearn/linear_model/_stochastic_gradient.py:1187: ConvergenceWarning: Maximum number of iteration reached before convergence. Consider increasing max_iter to improve the fit.\n",
      "  ConvergenceWarning)\n"
     ]
    },
    {
     "name": "stdout",
     "output_type": "stream",
     "text": [
      "[19:33:54] WARNING: /workspace/src/objective/regression_obj.cu:152: reg:linear is now deprecated in favor of reg:squarederror.\n"
     ]
    },
    {
     "name": "stderr",
     "output_type": "stream",
     "text": [
      "/usr/local/lib/python3.7/dist-packages/sklearn/linear_model/_stochastic_gradient.py:1187: ConvergenceWarning: Maximum number of iteration reached before convergence. Consider increasing max_iter to improve the fit.\n",
      "  ConvergenceWarning)\n"
     ]
    },
    {
     "name": "stdout",
     "output_type": "stream",
     "text": [
      "[CV]  meta_regressor__n_estimators=100, meta_regressor__learning_rate=0.1, meta_regressor__booster=gblinear, total=   1.0s\n",
      "[CV] meta_regressor__n_estimators=100, meta_regressor__learning_rate=0.1, meta_regressor__booster=gblinear \n",
      "[19:33:56] WARNING: /workspace/src/objective/regression_obj.cu:152: reg:linear is now deprecated in favor of reg:squarederror.\n",
      "[CV]  meta_regressor__n_estimators=100, meta_regressor__learning_rate=0.1, meta_regressor__booster=gblinear, total=   1.0s\n",
      "[CV] meta_regressor__n_estimators=100, meta_regressor__learning_rate=0.1, meta_regressor__booster=gblinear \n",
      "[19:33:57] WARNING: /workspace/src/objective/regression_obj.cu:152: reg:linear is now deprecated in favor of reg:squarederror.\n",
      "[CV]  meta_regressor__n_estimators=100, meta_regressor__learning_rate=0.1, meta_regressor__booster=gblinear, total=   1.0s\n",
      "[CV] meta_regressor__n_estimators=300, meta_regressor__learning_rate=0.01, meta_regressor__booster=dart \n"
     ]
    },
    {
     "name": "stderr",
     "output_type": "stream",
     "text": [
      "/usr/local/lib/python3.7/dist-packages/sklearn/linear_model/_stochastic_gradient.py:1187: ConvergenceWarning: Maximum number of iteration reached before convergence. Consider increasing max_iter to improve the fit.\n",
      "  ConvergenceWarning)\n"
     ]
    },
    {
     "name": "stdout",
     "output_type": "stream",
     "text": [
      "[19:33:58] WARNING: /workspace/src/objective/regression_obj.cu:152: reg:linear is now deprecated in favor of reg:squarederror.\n"
     ]
    },
    {
     "name": "stderr",
     "output_type": "stream",
     "text": [
      "/usr/local/lib/python3.7/dist-packages/sklearn/linear_model/_stochastic_gradient.py:1187: ConvergenceWarning: Maximum number of iteration reached before convergence. Consider increasing max_iter to improve the fit.\n",
      "  ConvergenceWarning)\n"
     ]
    },
    {
     "name": "stdout",
     "output_type": "stream",
     "text": [
      "[CV]  meta_regressor__n_estimators=300, meta_regressor__learning_rate=0.01, meta_regressor__booster=dart, total=   1.1s\n",
      "[CV] meta_regressor__n_estimators=300, meta_regressor__learning_rate=0.01, meta_regressor__booster=dart \n",
      "[19:33:59] WARNING: /workspace/src/objective/regression_obj.cu:152: reg:linear is now deprecated in favor of reg:squarederror.\n",
      "[CV]  meta_regressor__n_estimators=300, meta_regressor__learning_rate=0.01, meta_regressor__booster=dart, total=   1.1s\n",
      "[CV] meta_regressor__n_estimators=300, meta_regressor__learning_rate=0.01, meta_regressor__booster=dart \n",
      "[19:34:00] WARNING: /workspace/src/objective/regression_obj.cu:152: reg:linear is now deprecated in favor of reg:squarederror.\n",
      "[CV]  meta_regressor__n_estimators=300, meta_regressor__learning_rate=0.01, meta_regressor__booster=dart, total=   1.0s\n",
      "[CV] meta_regressor__n_estimators=200, meta_regressor__learning_rate=0.1, meta_regressor__booster=gblinear \n"
     ]
    },
    {
     "name": "stderr",
     "output_type": "stream",
     "text": [
      "/usr/local/lib/python3.7/dist-packages/sklearn/linear_model/_stochastic_gradient.py:1187: ConvergenceWarning: Maximum number of iteration reached before convergence. Consider increasing max_iter to improve the fit.\n",
      "  ConvergenceWarning)\n"
     ]
    },
    {
     "name": "stdout",
     "output_type": "stream",
     "text": [
      "[19:34:01] WARNING: /workspace/src/objective/regression_obj.cu:152: reg:linear is now deprecated in favor of reg:squarederror.\n"
     ]
    },
    {
     "name": "stderr",
     "output_type": "stream",
     "text": [
      "/usr/local/lib/python3.7/dist-packages/sklearn/linear_model/_stochastic_gradient.py:1187: ConvergenceWarning: Maximum number of iteration reached before convergence. Consider increasing max_iter to improve the fit.\n",
      "  ConvergenceWarning)\n"
     ]
    },
    {
     "name": "stdout",
     "output_type": "stream",
     "text": [
      "[CV]  meta_regressor__n_estimators=200, meta_regressor__learning_rate=0.1, meta_regressor__booster=gblinear, total=   1.0s\n",
      "[CV] meta_regressor__n_estimators=200, meta_regressor__learning_rate=0.1, meta_regressor__booster=gblinear \n",
      "[19:34:02] WARNING: /workspace/src/objective/regression_obj.cu:152: reg:linear is now deprecated in favor of reg:squarederror.\n",
      "[CV]  meta_regressor__n_estimators=200, meta_regressor__learning_rate=0.1, meta_regressor__booster=gblinear, total=   0.9s\n",
      "[CV] meta_regressor__n_estimators=200, meta_regressor__learning_rate=0.1, meta_regressor__booster=gblinear \n",
      "[19:34:03] WARNING: /workspace/src/objective/regression_obj.cu:152: reg:linear is now deprecated in favor of reg:squarederror.\n",
      "[CV]  meta_regressor__n_estimators=200, meta_regressor__learning_rate=0.1, meta_regressor__booster=gblinear, total=   1.0s\n",
      "[CV] meta_regressor__n_estimators=200, meta_regressor__learning_rate=0.01, meta_regressor__booster=dart \n"
     ]
    },
    {
     "name": "stderr",
     "output_type": "stream",
     "text": [
      "/usr/local/lib/python3.7/dist-packages/sklearn/linear_model/_stochastic_gradient.py:1187: ConvergenceWarning: Maximum number of iteration reached before convergence. Consider increasing max_iter to improve the fit.\n",
      "  ConvergenceWarning)\n"
     ]
    },
    {
     "name": "stdout",
     "output_type": "stream",
     "text": [
      "[19:34:04] WARNING: /workspace/src/objective/regression_obj.cu:152: reg:linear is now deprecated in favor of reg:squarederror.\n"
     ]
    },
    {
     "name": "stderr",
     "output_type": "stream",
     "text": [
      "/usr/local/lib/python3.7/dist-packages/sklearn/linear_model/_stochastic_gradient.py:1187: ConvergenceWarning: Maximum number of iteration reached before convergence. Consider increasing max_iter to improve the fit.\n",
      "  ConvergenceWarning)\n"
     ]
    },
    {
     "name": "stdout",
     "output_type": "stream",
     "text": [
      "[CV]  meta_regressor__n_estimators=200, meta_regressor__learning_rate=0.01, meta_regressor__booster=dart, total=   1.1s\n",
      "[CV] meta_regressor__n_estimators=200, meta_regressor__learning_rate=0.01, meta_regressor__booster=dart \n",
      "[19:34:05] WARNING: /workspace/src/objective/regression_obj.cu:152: reg:linear is now deprecated in favor of reg:squarederror.\n",
      "[CV]  meta_regressor__n_estimators=200, meta_regressor__learning_rate=0.01, meta_regressor__booster=dart, total=   1.0s\n",
      "[CV] meta_regressor__n_estimators=200, meta_regressor__learning_rate=0.01, meta_regressor__booster=dart \n",
      "[19:34:06] WARNING: /workspace/src/objective/regression_obj.cu:152: reg:linear is now deprecated in favor of reg:squarederror.\n",
      "[CV]  meta_regressor__n_estimators=200, meta_regressor__learning_rate=0.01, meta_regressor__booster=dart, total=   1.0s\n",
      "[CV] meta_regressor__n_estimators=200, meta_regressor__learning_rate=0.05, meta_regressor__booster=gbtree \n"
     ]
    },
    {
     "name": "stderr",
     "output_type": "stream",
     "text": [
      "/usr/local/lib/python3.7/dist-packages/sklearn/linear_model/_stochastic_gradient.py:1187: ConvergenceWarning: Maximum number of iteration reached before convergence. Consider increasing max_iter to improve the fit.\n",
      "  ConvergenceWarning)\n"
     ]
    },
    {
     "name": "stdout",
     "output_type": "stream",
     "text": [
      "[19:34:07] WARNING: /workspace/src/objective/regression_obj.cu:152: reg:linear is now deprecated in favor of reg:squarederror.\n"
     ]
    },
    {
     "name": "stderr",
     "output_type": "stream",
     "text": [
      "/usr/local/lib/python3.7/dist-packages/sklearn/linear_model/_stochastic_gradient.py:1187: ConvergenceWarning: Maximum number of iteration reached before convergence. Consider increasing max_iter to improve the fit.\n",
      "  ConvergenceWarning)\n"
     ]
    },
    {
     "name": "stdout",
     "output_type": "stream",
     "text": [
      "[CV]  meta_regressor__n_estimators=200, meta_regressor__learning_rate=0.05, meta_regressor__booster=gbtree, total=   1.0s\n",
      "[CV] meta_regressor__n_estimators=200, meta_regressor__learning_rate=0.05, meta_regressor__booster=gbtree \n",
      "[19:34:08] WARNING: /workspace/src/objective/regression_obj.cu:152: reg:linear is now deprecated in favor of reg:squarederror.\n",
      "[CV]  meta_regressor__n_estimators=200, meta_regressor__learning_rate=0.05, meta_regressor__booster=gbtree, total=   1.0s\n",
      "[CV] meta_regressor__n_estimators=200, meta_regressor__learning_rate=0.05, meta_regressor__booster=gbtree \n",
      "[19:34:09] WARNING: /workspace/src/objective/regression_obj.cu:152: reg:linear is now deprecated in favor of reg:squarederror.\n",
      "[CV]  meta_regressor__n_estimators=200, meta_regressor__learning_rate=0.05, meta_regressor__booster=gbtree, total=   1.0s\n"
     ]
    },
    {
     "name": "stderr",
     "output_type": "stream",
     "text": [
      "[Parallel(n_jobs=1)]: Done  30 out of  30 | elapsed:   30.8s finished\n",
      "/usr/local/lib/python3.7/dist-packages/sklearn/linear_model/_stochastic_gradient.py:1187: ConvergenceWarning: Maximum number of iteration reached before convergence. Consider increasing max_iter to improve the fit.\n",
      "  ConvergenceWarning)\n"
     ]
    },
    {
     "name": "stdout",
     "output_type": "stream",
     "text": [
      "[19:34:10] WARNING: /workspace/src/objective/regression_obj.cu:152: reg:linear is now deprecated in favor of reg:squarederror.\n",
      "Best Score:  -2286037.232217267\n",
      "Best Parameters: {'meta_regressor__n_estimators': 100, 'meta_regressor__learning_rate': 0.05, 'meta_regressor__booster': 'gblinear'}\n"
     ]
    },
    {
     "name": "stderr",
     "output_type": "stream",
     "text": [
      "/usr/local/lib/python3.7/dist-packages/sklearn/linear_model/_stochastic_gradient.py:1187: ConvergenceWarning: Maximum number of iteration reached before convergence. Consider increasing max_iter to improve the fit.\n",
      "  ConvergenceWarning)\n"
     ]
    }
   ],
   "source": [
    "# hyperparameter tuning the stacked regressor - variant 1\n",
    "params = {\"meta_regressor__n_estimators\": [100, 200, 300],\n",
    "          \"meta_regressor__booster\": ['gbtree', 'gblinear', 'dart'],  \n",
    "          \"meta_regressor__learning_rate\": [0.05, 0.01, 0.1]}\n",
    "\n",
    "# Initialize RandomizedSearchCV\n",
    "grid = RandomizedSearchCV(estimator = sreg1, param_distributions = params, cv = 3, scoring = \"neg_root_mean_squared_error\", verbose = 2)\n",
    "\n",
    "# Fit RandomizedSearchCV\n",
    "grid.fit(X_train.values, y_train.values)\n",
    "\n",
    "# Parameters and corresponding scores for random search\n",
    "print(\"Best Score: \", grid.best_score_)\n",
    "print(\"Best Parameters:\", grid.best_params_)"
   ]
  },
  {
   "cell_type": "code",
   "execution_count": 56,
   "metadata": {
    "colab": {
     "base_uri": "https://localhost:8080/"
    },
    "id": "kXtNkD5sy3qi",
    "outputId": "9243a93a-b0e4-4881-8060-8aea42b79a7e"
   },
   "outputs": [
    {
     "name": "stdout",
     "output_type": "stream",
     "text": [
      "Fitting 3 folds for each of 10 candidates, totalling 30 fits\n",
      "[CV] meta_regressor__penalty=l2, meta_regressor__max_iter=5000, meta_regressor__learning_rate=optimal \n"
     ]
    },
    {
     "name": "stderr",
     "output_type": "stream",
     "text": [
      "[Parallel(n_jobs=1)]: Using backend SequentialBackend with 1 concurrent workers.\n",
      "/usr/local/lib/python3.7/dist-packages/sklearn/linear_model/_stochastic_gradient.py:1187: ConvergenceWarning: Maximum number of iteration reached before convergence. Consider increasing max_iter to improve the fit.\n",
      "  ConvergenceWarning)\n",
      "/usr/local/lib/python3.7/dist-packages/sklearn/linear_model/_stochastic_gradient.py:1187: ConvergenceWarning: Maximum number of iteration reached before convergence. Consider increasing max_iter to improve the fit.\n",
      "  ConvergenceWarning)\n",
      "[Parallel(n_jobs=1)]: Done   1 out of   1 | elapsed:    1.0s remaining:    0.0s\n"
     ]
    },
    {
     "name": "stdout",
     "output_type": "stream",
     "text": [
      "[CV]  meta_regressor__penalty=l2, meta_regressor__max_iter=5000, meta_regressor__learning_rate=optimal, total=   1.0s\n",
      "[CV] meta_regressor__penalty=l2, meta_regressor__max_iter=5000, meta_regressor__learning_rate=optimal \n",
      "[CV]  meta_regressor__penalty=l2, meta_regressor__max_iter=5000, meta_regressor__learning_rate=optimal, total=   1.0s\n",
      "[CV] meta_regressor__penalty=l2, meta_regressor__max_iter=5000, meta_regressor__learning_rate=optimal \n",
      "[CV]  meta_regressor__penalty=l2, meta_regressor__max_iter=5000, meta_regressor__learning_rate=optimal, total=   1.0s\n",
      "[CV] meta_regressor__penalty=l2, meta_regressor__max_iter=1000, meta_regressor__learning_rate=constant \n"
     ]
    },
    {
     "name": "stderr",
     "output_type": "stream",
     "text": [
      "/usr/local/lib/python3.7/dist-packages/sklearn/linear_model/_stochastic_gradient.py:1187: ConvergenceWarning: Maximum number of iteration reached before convergence. Consider increasing max_iter to improve the fit.\n",
      "  ConvergenceWarning)\n",
      "/usr/local/lib/python3.7/dist-packages/sklearn/linear_model/_stochastic_gradient.py:1187: ConvergenceWarning: Maximum number of iteration reached before convergence. Consider increasing max_iter to improve the fit.\n",
      "  ConvergenceWarning)\n"
     ]
    },
    {
     "name": "stdout",
     "output_type": "stream",
     "text": [
      "[CV]  meta_regressor__penalty=l2, meta_regressor__max_iter=1000, meta_regressor__learning_rate=constant, total=   1.0s\n",
      "[CV] meta_regressor__penalty=l2, meta_regressor__max_iter=1000, meta_regressor__learning_rate=constant \n",
      "[CV]  meta_regressor__penalty=l2, meta_regressor__max_iter=1000, meta_regressor__learning_rate=constant, total=   1.0s\n",
      "[CV] meta_regressor__penalty=l2, meta_regressor__max_iter=1000, meta_regressor__learning_rate=constant \n",
      "[CV]  meta_regressor__penalty=l2, meta_regressor__max_iter=1000, meta_regressor__learning_rate=constant, total=   0.9s\n",
      "[CV] meta_regressor__penalty=l2, meta_regressor__max_iter=1000, meta_regressor__learning_rate=optimal \n"
     ]
    },
    {
     "name": "stderr",
     "output_type": "stream",
     "text": [
      "/usr/local/lib/python3.7/dist-packages/sklearn/linear_model/_stochastic_gradient.py:1187: ConvergenceWarning: Maximum number of iteration reached before convergence. Consider increasing max_iter to improve the fit.\n",
      "  ConvergenceWarning)\n",
      "/usr/local/lib/python3.7/dist-packages/sklearn/linear_model/_stochastic_gradient.py:1187: ConvergenceWarning: Maximum number of iteration reached before convergence. Consider increasing max_iter to improve the fit.\n",
      "  ConvergenceWarning)\n"
     ]
    },
    {
     "name": "stdout",
     "output_type": "stream",
     "text": [
      "[CV]  meta_regressor__penalty=l2, meta_regressor__max_iter=1000, meta_regressor__learning_rate=optimal, total=   1.0s\n",
      "[CV] meta_regressor__penalty=l2, meta_regressor__max_iter=1000, meta_regressor__learning_rate=optimal \n",
      "[CV]  meta_regressor__penalty=l2, meta_regressor__max_iter=1000, meta_regressor__learning_rate=optimal, total=   1.0s\n",
      "[CV] meta_regressor__penalty=l2, meta_regressor__max_iter=1000, meta_regressor__learning_rate=optimal \n",
      "[CV]  meta_regressor__penalty=l2, meta_regressor__max_iter=1000, meta_regressor__learning_rate=optimal, total=   1.0s\n",
      "[CV] meta_regressor__penalty=l1, meta_regressor__max_iter=5000, meta_regressor__learning_rate=optimal \n"
     ]
    },
    {
     "name": "stderr",
     "output_type": "stream",
     "text": [
      "/usr/local/lib/python3.7/dist-packages/sklearn/linear_model/_stochastic_gradient.py:1187: ConvergenceWarning: Maximum number of iteration reached before convergence. Consider increasing max_iter to improve the fit.\n",
      "  ConvergenceWarning)\n",
      "/usr/local/lib/python3.7/dist-packages/sklearn/linear_model/_stochastic_gradient.py:1187: ConvergenceWarning: Maximum number of iteration reached before convergence. Consider increasing max_iter to improve the fit.\n",
      "  ConvergenceWarning)\n"
     ]
    },
    {
     "name": "stdout",
     "output_type": "stream",
     "text": [
      "[CV]  meta_regressor__penalty=l1, meta_regressor__max_iter=5000, meta_regressor__learning_rate=optimal, total=   1.0s\n",
      "[CV] meta_regressor__penalty=l1, meta_regressor__max_iter=5000, meta_regressor__learning_rate=optimal \n",
      "[CV]  meta_regressor__penalty=l1, meta_regressor__max_iter=5000, meta_regressor__learning_rate=optimal, total=   1.0s\n",
      "[CV] meta_regressor__penalty=l1, meta_regressor__max_iter=5000, meta_regressor__learning_rate=optimal \n",
      "[CV]  meta_regressor__penalty=l1, meta_regressor__max_iter=5000, meta_regressor__learning_rate=optimal, total=   1.0s\n",
      "[CV] meta_regressor__penalty=l2, meta_regressor__max_iter=2000, meta_regressor__learning_rate=optimal \n"
     ]
    },
    {
     "name": "stderr",
     "output_type": "stream",
     "text": [
      "/usr/local/lib/python3.7/dist-packages/sklearn/linear_model/_stochastic_gradient.py:1187: ConvergenceWarning: Maximum number of iteration reached before convergence. Consider increasing max_iter to improve the fit.\n",
      "  ConvergenceWarning)\n",
      "/usr/local/lib/python3.7/dist-packages/sklearn/linear_model/_stochastic_gradient.py:1187: ConvergenceWarning: Maximum number of iteration reached before convergence. Consider increasing max_iter to improve the fit.\n",
      "  ConvergenceWarning)\n"
     ]
    },
    {
     "name": "stdout",
     "output_type": "stream",
     "text": [
      "[CV]  meta_regressor__penalty=l2, meta_regressor__max_iter=2000, meta_regressor__learning_rate=optimal, total=   1.0s\n",
      "[CV] meta_regressor__penalty=l2, meta_regressor__max_iter=2000, meta_regressor__learning_rate=optimal \n",
      "[CV]  meta_regressor__penalty=l2, meta_regressor__max_iter=2000, meta_regressor__learning_rate=optimal, total=   1.0s\n",
      "[CV] meta_regressor__penalty=l2, meta_regressor__max_iter=2000, meta_regressor__learning_rate=optimal \n",
      "[CV]  meta_regressor__penalty=l2, meta_regressor__max_iter=2000, meta_regressor__learning_rate=optimal, total=   1.0s\n",
      "[CV] meta_regressor__penalty=elasticnet, meta_regressor__max_iter=3000, meta_regressor__learning_rate=invscaling \n"
     ]
    },
    {
     "name": "stderr",
     "output_type": "stream",
     "text": [
      "/usr/local/lib/python3.7/dist-packages/sklearn/linear_model/_stochastic_gradient.py:1187: ConvergenceWarning: Maximum number of iteration reached before convergence. Consider increasing max_iter to improve the fit.\n",
      "  ConvergenceWarning)\n",
      "/usr/local/lib/python3.7/dist-packages/sklearn/linear_model/_stochastic_gradient.py:1187: ConvergenceWarning: Maximum number of iteration reached before convergence. Consider increasing max_iter to improve the fit.\n",
      "  ConvergenceWarning)\n"
     ]
    },
    {
     "name": "stdout",
     "output_type": "stream",
     "text": [
      "[CV]  meta_regressor__penalty=elasticnet, meta_regressor__max_iter=3000, meta_regressor__learning_rate=invscaling, total=   1.0s\n",
      "[CV] meta_regressor__penalty=elasticnet, meta_regressor__max_iter=3000, meta_regressor__learning_rate=invscaling \n",
      "[CV]  meta_regressor__penalty=elasticnet, meta_regressor__max_iter=3000, meta_regressor__learning_rate=invscaling, total=   1.0s\n",
      "[CV] meta_regressor__penalty=elasticnet, meta_regressor__max_iter=3000, meta_regressor__learning_rate=invscaling \n",
      "[CV]  meta_regressor__penalty=elasticnet, meta_regressor__max_iter=3000, meta_regressor__learning_rate=invscaling, total=   0.9s\n",
      "[CV] meta_regressor__penalty=elasticnet, meta_regressor__max_iter=3000, meta_regressor__learning_rate=adaptive \n"
     ]
    },
    {
     "name": "stderr",
     "output_type": "stream",
     "text": [
      "/usr/local/lib/python3.7/dist-packages/sklearn/linear_model/_stochastic_gradient.py:1187: ConvergenceWarning: Maximum number of iteration reached before convergence. Consider increasing max_iter to improve the fit.\n",
      "  ConvergenceWarning)\n",
      "/usr/local/lib/python3.7/dist-packages/sklearn/linear_model/_stochastic_gradient.py:1187: ConvergenceWarning: Maximum number of iteration reached before convergence. Consider increasing max_iter to improve the fit.\n",
      "  ConvergenceWarning)\n"
     ]
    },
    {
     "name": "stdout",
     "output_type": "stream",
     "text": [
      "[CV]  meta_regressor__penalty=elasticnet, meta_regressor__max_iter=3000, meta_regressor__learning_rate=adaptive, total=   1.0s\n",
      "[CV] meta_regressor__penalty=elasticnet, meta_regressor__max_iter=3000, meta_regressor__learning_rate=adaptive \n",
      "[CV]  meta_regressor__penalty=elasticnet, meta_regressor__max_iter=3000, meta_regressor__learning_rate=adaptive, total=   1.0s\n",
      "[CV] meta_regressor__penalty=elasticnet, meta_regressor__max_iter=3000, meta_regressor__learning_rate=adaptive \n",
      "[CV]  meta_regressor__penalty=elasticnet, meta_regressor__max_iter=3000, meta_regressor__learning_rate=adaptive, total=   1.0s\n",
      "[CV] meta_regressor__penalty=elasticnet, meta_regressor__max_iter=5000, meta_regressor__learning_rate=optimal \n"
     ]
    },
    {
     "name": "stderr",
     "output_type": "stream",
     "text": [
      "/usr/local/lib/python3.7/dist-packages/sklearn/linear_model/_stochastic_gradient.py:1187: ConvergenceWarning: Maximum number of iteration reached before convergence. Consider increasing max_iter to improve the fit.\n",
      "  ConvergenceWarning)\n",
      "/usr/local/lib/python3.7/dist-packages/sklearn/linear_model/_stochastic_gradient.py:1187: ConvergenceWarning: Maximum number of iteration reached before convergence. Consider increasing max_iter to improve the fit.\n",
      "  ConvergenceWarning)\n"
     ]
    },
    {
     "name": "stdout",
     "output_type": "stream",
     "text": [
      "[CV]  meta_regressor__penalty=elasticnet, meta_regressor__max_iter=5000, meta_regressor__learning_rate=optimal, total=   1.0s\n",
      "[CV] meta_regressor__penalty=elasticnet, meta_regressor__max_iter=5000, meta_regressor__learning_rate=optimal \n",
      "[CV]  meta_regressor__penalty=elasticnet, meta_regressor__max_iter=5000, meta_regressor__learning_rate=optimal, total=   1.0s\n",
      "[CV] meta_regressor__penalty=elasticnet, meta_regressor__max_iter=5000, meta_regressor__learning_rate=optimal \n",
      "[CV]  meta_regressor__penalty=elasticnet, meta_regressor__max_iter=5000, meta_regressor__learning_rate=optimal, total=   0.9s\n",
      "[CV] meta_regressor__penalty=elasticnet, meta_regressor__max_iter=5000, meta_regressor__learning_rate=adaptive \n"
     ]
    },
    {
     "name": "stderr",
     "output_type": "stream",
     "text": [
      "/usr/local/lib/python3.7/dist-packages/sklearn/linear_model/_stochastic_gradient.py:1187: ConvergenceWarning: Maximum number of iteration reached before convergence. Consider increasing max_iter to improve the fit.\n",
      "  ConvergenceWarning)\n",
      "/usr/local/lib/python3.7/dist-packages/sklearn/linear_model/_stochastic_gradient.py:1187: ConvergenceWarning: Maximum number of iteration reached before convergence. Consider increasing max_iter to improve the fit.\n",
      "  ConvergenceWarning)\n"
     ]
    },
    {
     "name": "stdout",
     "output_type": "stream",
     "text": [
      "[CV]  meta_regressor__penalty=elasticnet, meta_regressor__max_iter=5000, meta_regressor__learning_rate=adaptive, total=   1.0s\n",
      "[CV] meta_regressor__penalty=elasticnet, meta_regressor__max_iter=5000, meta_regressor__learning_rate=adaptive \n",
      "[CV]  meta_regressor__penalty=elasticnet, meta_regressor__max_iter=5000, meta_regressor__learning_rate=adaptive, total=   1.0s\n",
      "[CV] meta_regressor__penalty=elasticnet, meta_regressor__max_iter=5000, meta_regressor__learning_rate=adaptive \n",
      "[CV]  meta_regressor__penalty=elasticnet, meta_regressor__max_iter=5000, meta_regressor__learning_rate=adaptive, total=   0.9s\n",
      "[CV] meta_regressor__penalty=l1, meta_regressor__max_iter=3000, meta_regressor__learning_rate=constant \n"
     ]
    },
    {
     "name": "stderr",
     "output_type": "stream",
     "text": [
      "/usr/local/lib/python3.7/dist-packages/sklearn/linear_model/_stochastic_gradient.py:1187: ConvergenceWarning: Maximum number of iteration reached before convergence. Consider increasing max_iter to improve the fit.\n",
      "  ConvergenceWarning)\n",
      "/usr/local/lib/python3.7/dist-packages/sklearn/linear_model/_stochastic_gradient.py:1187: ConvergenceWarning: Maximum number of iteration reached before convergence. Consider increasing max_iter to improve the fit.\n",
      "  ConvergenceWarning)\n"
     ]
    },
    {
     "name": "stdout",
     "output_type": "stream",
     "text": [
      "[CV]  meta_regressor__penalty=l1, meta_regressor__max_iter=3000, meta_regressor__learning_rate=constant, total=   1.0s\n",
      "[CV] meta_regressor__penalty=l1, meta_regressor__max_iter=3000, meta_regressor__learning_rate=constant \n",
      "[CV]  meta_regressor__penalty=l1, meta_regressor__max_iter=3000, meta_regressor__learning_rate=constant, total=   1.0s\n",
      "[CV] meta_regressor__penalty=l1, meta_regressor__max_iter=3000, meta_regressor__learning_rate=constant \n",
      "[CV]  meta_regressor__penalty=l1, meta_regressor__max_iter=3000, meta_regressor__learning_rate=constant, total=   1.0s\n"
     ]
    },
    {
     "name": "stderr",
     "output_type": "stream",
     "text": [
      "[Parallel(n_jobs=1)]: Done  30 out of  30 | elapsed:   29.5s finished\n",
      "/usr/local/lib/python3.7/dist-packages/sklearn/linear_model/_stochastic_gradient.py:1187: ConvergenceWarning: Maximum number of iteration reached before convergence. Consider increasing max_iter to improve the fit.\n",
      "  ConvergenceWarning)\n"
     ]
    },
    {
     "name": "stdout",
     "output_type": "stream",
     "text": [
      "Best Score:  -1.5081945148013156e+19\n",
      "Best Parameters: {'meta_regressor__penalty': 'elasticnet', 'meta_regressor__max_iter': 5000, 'meta_regressor__learning_rate': 'adaptive'}\n"
     ]
    },
    {
     "name": "stderr",
     "output_type": "stream",
     "text": [
      "/usr/local/lib/python3.7/dist-packages/sklearn/linear_model/_stochastic_gradient.py:1187: ConvergenceWarning: Maximum number of iteration reached before convergence. Consider increasing max_iter to improve the fit.\n",
      "  ConvergenceWarning)\n"
     ]
    }
   ],
   "source": [
    "# hyperparameter tuning the stacked regressor - variant 2\n",
    "params = {\"meta_regressor__max_iter\": [1000, 2000, 3000, 5000],\n",
    "          \"meta_regressor__penalty\": ['l2', 'l1', 'elasticnet'],  \n",
    "          \"meta_regressor__learning_rate\": ['invscaling', 'constant', 'optimal', 'adaptive']}\n",
    "\n",
    "# Initialize RandomizedSearchCV\n",
    "grid = RandomizedSearchCV(estimator = sreg2, param_distributions = params, cv = 3, scoring = \"neg_root_mean_squared_error\", verbose = 2)\n",
    "\n",
    "# Fit RandomizedSearchCV\n",
    "grid.fit(X_train.values, y_train.values)\n",
    "\n",
    "# Parameters and corresponding scores for random search\n",
    "print(\"Best Score: \", grid.best_score_)\n",
    "print(\"Best Parameters:\", grid.best_params_)"
   ]
  },
  {
   "cell_type": "code",
   "execution_count": 58,
   "metadata": {
    "id": "cDcC5bAZs7hO"
   },
   "outputs": [],
   "source": [
    "base_models = [\n",
    "               DecisionTreeRegressor(splitter='best', min_weight_fraction_leaf=0.1, criterion='friedman_mse', random_state=0),\n",
    "               RandomForestRegressor(n_estimators=100, min_weight_fraction_leaf=0.05, criterion='mse', random_state=0),\n",
    "               MLPRegressor(learning_rate='adaptive', hidden_layer_sizes=(200, ), activation='relu', random_state=0, early_stopping=True),\n",
    "               SVR(kernel='linear', C=1.5),\n",
    "               SGDRegressor(penalty='l1', loss='huber', random_state=0)\n",
    "]\n",
    "\n",
    "# final stacked model - variant 1 \n",
    "\n",
    "meta_model3 = XGBRegressor(n_estimators=100, learning_rate=0.05, booster='gblinear')\n",
    "\n",
    "sreg3 = StackingCVRegressor(base_models,\n",
    "                           shuffle = False,\n",
    "                           cv = 3,\n",
    "                           meta_regressor = meta_model3)\n",
    "\n",
    "\n",
    "# final stacked model - variant 2\n",
    "\n",
    "meta_model4 = SGDRegressor(penalty='elasticnet', max_iter=5000, learning_rate='adaptive')\n",
    "\n",
    "sreg4 = StackingCVRegressor(base_models,\n",
    "                           shuffle = False,\n",
    "                           cv = 3,\n",
    "                           meta_regressor = meta_model4)"
   ]
  },
  {
   "cell_type": "code",
   "execution_count": 60,
   "metadata": {
    "colab": {
     "base_uri": "https://localhost:8080/"
    },
    "id": "0-lNwDI3s-z8",
    "outputId": "84eb7789-f4e7-4a84-e41f-dcb499a0de91"
   },
   "outputs": [
    {
     "name": "stderr",
     "output_type": "stream",
     "text": [
      "/usr/local/lib/python3.7/dist-packages/sklearn/linear_model/_stochastic_gradient.py:1187: ConvergenceWarning: Maximum number of iteration reached before convergence. Consider increasing max_iter to improve the fit.\n",
      "  ConvergenceWarning)\n"
     ]
    },
    {
     "name": "stdout",
     "output_type": "stream",
     "text": [
      "[19:39:18] WARNING: /workspace/src/objective/regression_obj.cu:152: reg:linear is now deprecated in favor of reg:squarederror.\n"
     ]
    },
    {
     "name": "stderr",
     "output_type": "stream",
     "text": [
      "/usr/local/lib/python3.7/dist-packages/sklearn/linear_model/_stochastic_gradient.py:1187: ConvergenceWarning: Maximum number of iteration reached before convergence. Consider increasing max_iter to improve the fit.\n",
      "  ConvergenceWarning)\n"
     ]
    },
    {
     "name": "stdout",
     "output_type": "stream",
     "text": [
      "Stacked Model - Variant 1\n",
      "RMSE: 3334509.4471968007\n"
     ]
    },
    {
     "name": "stderr",
     "output_type": "stream",
     "text": [
      "/usr/local/lib/python3.7/dist-packages/sklearn/linear_model/_stochastic_gradient.py:1187: ConvergenceWarning: Maximum number of iteration reached before convergence. Consider increasing max_iter to improve the fit.\n",
      "  ConvergenceWarning)\n"
     ]
    },
    {
     "name": "stdout",
     "output_type": "stream",
     "text": [
      "Stacked Model - Variant 2\n",
      "RMSE: 2.8758910980933786e+18\n"
     ]
    },
    {
     "name": "stderr",
     "output_type": "stream",
     "text": [
      "/usr/local/lib/python3.7/dist-packages/sklearn/linear_model/_stochastic_gradient.py:1187: ConvergenceWarning: Maximum number of iteration reached before convergence. Consider increasing max_iter to improve the fit.\n",
      "  ConvergenceWarning)\n"
     ]
    }
   ],
   "source": [
    "# training the final stacked model - variant 1 \n",
    "sreg3.fit(X_train.values, y_train.values)\n",
    "y_pred3 = sreg3.predict(X_test)\n",
    "\n",
    "# generating rmse\n",
    "print('Stacked Model - Variant 1')\n",
    "print('RMSE:', mean_squared_error(y_test, y_pred3, squared=False))\n",
    "\n",
    "# training the final stacked model - variant 2\n",
    "sreg4.fit(X_train.values, y_train.values)\n",
    "y_pred4 = sreg4.predict(X_test)\n",
    "\n",
    "# generating rmse\n",
    "print('Stacked Model - Variant 2')\n",
    "print('RMSE:', mean_squared_error(y_test, y_pred4, squared=False))"
   ]
  },
  {
   "cell_type": "markdown",
   "metadata": {
    "id": "2a5dTAJblYbm"
   },
   "source": [
    "# Test Data"
   ]
  },
  {
   "cell_type": "code",
   "execution_count": 18,
   "metadata": {
    "id": "InFkJW4zlZk_"
   },
   "outputs": [],
   "source": [
    "# creating copy of test file and removing unwanted from test data\n",
    "\n",
    "df2 = test_data.copy()\n",
    "id_col = df2.Id.copy()\n",
    "df2.drop(['Id', 'Open Date', 'City'], inplace=True, axis=1)"
   ]
  },
  {
   "cell_type": "code",
   "execution_count": 19,
   "metadata": {
    "id": "oVFwDOkbl1V7"
   },
   "outputs": [],
   "source": [
    "# preprocessing test data\n",
    "\n",
    "df2[cat_cols] = cat_imputer.transform(df2[cat_cols])\n",
    "\n",
    "df2[num_cols] = num_imputer.transform(df2[num_cols])\n",
    "\n",
    "df2 = pd.get_dummies(df2, columns=cat_cols, drop_first=True)\n",
    "\n",
    "df2[num_cols] = df2[num_cols].apply(lambda x: x.clip(*x.quantile([0.05, 0.95])))\n",
    "\n",
    "df2[num_cols] = scaler.fit_transform(df2[num_cols])"
   ]
  },
  {
   "cell_type": "code",
   "execution_count": 20,
   "metadata": {
    "id": "jg7MpW3JiMjp"
   },
   "outputs": [],
   "source": [
    "# generating predictions using base stacked model\n",
    "y_pred = sreg1.predict(df2.values)\n",
    "\n",
    "# generating submission dataset with QuoteNumber and QuoteConversion_Flag columns\n",
    "submit_df = pd.Series(y_pred, name='Prediction')\n",
    "submission = pd.concat([id_col, submit_df], axis=1)\n",
    "submission.to_csv('/content/drive/MyDrive/Colab Notebooks/TeamAssn/submit_sreg1.csv', index=False)"
   ]
  },
  {
   "cell_type": "code",
   "execution_count": 21,
   "metadata": {
    "id": "zGs6g34Elfoj"
   },
   "outputs": [],
   "source": [
    "# generating predictions using tuned stacked model\n",
    "y_pred = sreg3.predict(df2.values)\n",
    "\n",
    "# generating submission dataset with QuoteNumber and QuoteConversion_Flag columns\n",
    "submit_df = pd.Series(y_pred, name='Prediction')\n",
    "submission = pd.concat([id_col, submit_df], axis=1)\n",
    "submission.to_csv('/content/drive/MyDrive/Colab Notebooks/TeamAssn/submit_sreg3.csv', index=False)"
   ]
  },
  {
   "cell_type": "code",
   "execution_count": 22,
   "metadata": {
    "id": "y_B9M8hFrO0C"
   },
   "outputs": [],
   "source": [
    "# generating predictions using best performing individual model\n",
    "reg = RandomForestRegressor(n_estimators=100, min_weight_fraction_leaf=0.05, criterion='mse', random_state=0)\n",
    "reg.fit(X, y)\n",
    "\n",
    "y_pred = reg.predict(df2.values)\n",
    "\n",
    "# generating submission dataset with QuoteNumber and QuoteConversion_Flag columns\n",
    "submit_df = pd.Series(y_pred, name='Prediction')\n",
    "submission = pd.concat([id_col, submit_df], axis=1)\n",
    "submission.to_csv('/content/drive/MyDrive/Colab Notebooks/TeamAssn/submit_reg.csv', index=False)"
   ]
  }
 ],
 "metadata": {
  "colab": {
   "collapsed_sections": [
    "qaEcDsnzhxV1",
    "tmu2FqEpuHEj",
    "qym3W5zBht14",
    "G9F9kx__Y0Yp",
    "RLS3oS1EY4Um",
    "2a5dTAJblYbm"
   ],
   "name": "team_assn_final.ipynb",
   "provenance": []
  },
  "kernelspec": {
   "display_name": "Python 3",
   "language": "python",
   "name": "python3"
  },
  "language_info": {
   "codemirror_mode": {
    "name": "ipython",
    "version": 3
   },
   "file_extension": ".py",
   "mimetype": "text/x-python",
   "name": "python",
   "nbconvert_exporter": "python",
   "pygments_lexer": "ipython3",
   "version": "3.8.3"
  }
 },
 "nbformat": 4,
 "nbformat_minor": 1
}
